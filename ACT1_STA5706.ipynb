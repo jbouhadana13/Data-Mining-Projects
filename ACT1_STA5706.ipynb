{
  "nbformat": 4,
  "nbformat_minor": 0,
  "metadata": {
    "colab": {
      "provenance": [],
      "include_colab_link": true
    },
    "kernelspec": {
      "name": "python3",
      "display_name": "Python 3"
    },
    "language_info": {
      "name": "python"
    }
  },
  "cells": [
    {
      "cell_type": "markdown",
      "metadata": {
        "id": "view-in-github",
        "colab_type": "text"
      },
      "source": [
        "<a href=\"https://colab.research.google.com/github/jbouhadana13/Data-Mining-Projects/blob/main/ACT1_STA5706.ipynb\" target=\"_parent\"><img src=\"https://colab.research.google.com/assets/colab-badge.svg\" alt=\"Open In Colab\"/></a>"
      ]
    },
    {
      "cell_type": "markdown",
      "source": [
        "**ACT1** **STA5706**\n",
        "\n",
        "\n"
      ],
      "metadata": {
        "id": "o6qNsr6lieB6"
      }
    },
    {
      "cell_type": "code",
      "source": [
        "#import libraries\n",
        "import pandas as pd               # Pandas handles dataframes\n",
        "import numpy as np\n",
        "import scipy\n",
        "import matplotlib                 # Numpy handles lots of basic maths operations\n",
        "import matplotlib.pyplot as plt   # Matplotlib for plotting\n",
        "import seaborn as sns             # Seaborn for beautiful plots\n",
        "import statsmodels\n",
        "from scipy.stats import skew\n",
        "from scipy.stats import pearsonr\n",
        "from scipy.stats import spearmanr\n",
        "from scipy.special import logit\n",
        "import math\n"
      ],
      "metadata": {
        "id": "g_7zSc7ZlTtI"
      },
      "execution_count": null,
      "outputs": []
    },
    {
      "cell_type": "markdown",
      "source": [
        "Problem 1.1 (5 Points) Read the EXCLE CSV file “LOGITData.csv”\n",
        "\n"
      ],
      "metadata": {
        "id": "Iau0ZmKCi_9L"
      }
    },
    {
      "cell_type": "code",
      "source": [
        "# 1.1\n",
        "\n",
        "filename = 'LOGITData.csv'\n",
        "df = pd.read_csv(filename)\n"
      ],
      "metadata": {
        "id": "xSDa9WX6jox_"
      },
      "execution_count": null,
      "outputs": []
    },
    {
      "cell_type": "markdown",
      "source": [
        "Problem 1.2 (5 Points) Produce a scatter plot using “BsmtFinSF1” and “SalePrice” and impose a loess line on the top of the data."
      ],
      "metadata": {
        "id": "dmlm9XxYjEFp"
      }
    },
    {
      "cell_type": "code",
      "source": [
        "#1.2\n",
        "\n",
        "x = df['SalePrice']\n",
        "y = df['BsmtFinSF1']\n",
        "\n",
        "plt.scatter(x,y)\n",
        "plt.xlabel('SalesPrice')\n",
        "plt.ylabel('BsmtFinSF1')\n",
        "plt.show\n"
      ],
      "metadata": {
        "id": "RGt_FlFcjrGd",
        "colab": {
          "base_uri": "https://localhost:8080/",
          "height": 296
        },
        "outputId": "cd83a264-3388-42fe-a464-43d17f935563"
      },
      "execution_count": null,
      "outputs": [
        {
          "output_type": "execute_result",
          "data": {
            "text/plain": [
              "<function matplotlib.pyplot.show(*args, **kw)>"
            ]
          },
          "metadata": {},
          "execution_count": 5
        },
        {
          "output_type": "display_data",
          "data": {
            "text/plain": [
              "<Figure size 432x288 with 1 Axes>"
            ],
            "image/png": "[encoded data removed]"
          },
          "metadata": {
            "needs_background": "light"
          }
        }
      ]
    },
    {
      "cell_type": "markdown",
      "source": [
        "Problem 1.3 (5 Points) Produce a scatter plot using “LotArea” and “SalePrice” and impose a loess line on the top of the data."
      ],
      "metadata": {
        "id": "m_BkYYkLjJM6"
      }
    },
    {
      "cell_type": "code",
      "source": [
        "#1.3\n",
        "\n",
        "# Seaborne solution:\n",
        "df1 = df[['LotArea', 'SalePrice']]\n",
        "sns.regplot(\"LotArea\", \"SalePrice\", data=df1,  color=\"grey\", scatter_kws={\"s\": 10},\n",
        "             line_kws={\"color\":\"r\",\"alpha\":1,\"lw\":1} ,lowess=True)\n",
        "plt.xlabel(\"X\"), plt.ylabel(\"Y\")\n",
        "plt.title('Test data - with seaborn lowess line (N = 10)')\n",
        "plt.show()"
      ],
      "metadata": {
        "id": "NDHAXipkjsk4",
        "colab": {
          "base_uri": "https://localhost:8080/",
          "height": 350
        },
        "outputId": "9d03ea07-f25d-4354-f20f-df15e3fba47e"
      },
      "execution_count": null,
      "outputs": [
        {
          "output_type": "stream",
          "name": "stderr",
          "text": [
            "/usr/local/lib/python3.8/dist-packages/seaborn/_decorators.py:36: FutureWarning: Pass the following variables as keyword args: x, y. From version 0.12, the only valid positional argument will be `data`, and passing other arguments without an explicit keyword will result in an error or misinterpretation.\n",
            "  warnings.warn(\n"
          ]
        },
        {
          "output_type": "display_data",
          "data": {
            "text/plain": [
              "<Figure size 432x288 with 1 Axes>"
            ],
            "image/png": "[encoded data removed]"
          },
          "metadata": {
            "needs_background": "light"
          }
        }
      ]
    },
    {
      "cell_type": "markdown",
      "source": [
        "Problem 1.4 (5 Points) Produce a table with the following summary statistic including minimum, mean, median, variance, standard deviation, maximum, and skewness for the following threevariables “SalePrice”, “BsmtFinSF1”, and “LotArea”. (Note: Display only three decimal place)"
      ],
      "metadata": {
        "id": "1TUJqXP_jJCs"
      }
    },
    {
      "cell_type": "code",
      "source": [
        "#1.4\n",
        "\n",
        "#descriptive statistics for SalePrice\n",
        "def descriptiveStatistics(select_columm):\n",
        "    print(f'Min {select_columm} {round(df[select_columm].min(), 3)}')\n",
        "    print(f'Mean {select_columm} {round(df[select_columm].mean(), 3)}')\n",
        "    print(f'Median {select_columm} {round(df[select_columm].median(), 3)}')\n",
        "    print(f'Variance {select_columm} {round(np.var(df[select_columm]), 3)}')\n",
        "    print(f'Standard Deviation {select_columm} {round(np.std(df[select_columm]), 3)}')\n",
        "    print(f'Max {select_columm} {round(df[select_columm].max(), 3)}')\n",
        "    print(f'Skewness {select_columm} {round(skew(df[select_columm]), 3)}')\n",
        "\n",
        "\n",
        "print('-------------------------------------')\n",
        "print(\"SalePrice Data\\n\")\n",
        "descriptiveStatistics(\"SalePrice\")\n",
        "print('-------------------------------------')\n",
        "print(\"BsmtFinSF1 Data\\n\")\n",
        "descriptiveStatistics('BsmtFinSF1')\n",
        "print('-------------------------------------')\n",
        "print(\"LotArea Data\\n\")\n",
        "descriptiveStatistics('LotArea')\n",
        "print('-------------------------------------')\n"
      ],
      "metadata": {
        "id": "INyNGuYpjtxw",
        "colab": {
          "base_uri": "https://localhost:8080/"
        },
        "outputId": "3bc1b7ce-8680-48a7-f8a6-7aa33aac79bc"
      },
      "execution_count": null,
      "outputs": [
        {
          "output_type": "stream",
          "name": "stdout",
          "text": [
            "-------------------------------------\n",
            "SalePrice Data\n",
            "\n",
            "Min SalePrice 34900\n",
            "Mean SalePrice 180921.196\n",
            "Median SalePrice 163000.0\n",
            "Variance SalePrice 6306788585.349\n",
            "Standard Deviation SalePrice 79415.292\n",
            "Max SalePrice 755000\n",
            "Skewness SalePrice 1.881\n",
            "-------------------------------------\n",
            "BsmtFinSF1 Data\n",
            "\n",
            "Min BsmtFinSF1 0\n",
            "Mean BsmtFinSF1 443.64\n",
            "Median BsmtFinSF1 383.5\n",
            "Variance BsmtFinSF1 207882.985\n",
            "Standard Deviation BsmtFinSF1 455.942\n",
            "Max BsmtFinSF1 5644\n",
            "Skewness BsmtFinSF1 1.684\n",
            "-------------------------------------\n",
            "LotArea Data\n",
            "\n",
            "Min LotArea 1300\n",
            "Mean LotArea 10516.828\n",
            "Median LotArea 9478.5\n",
            "Variance LotArea 99557412.904\n",
            "Standard Deviation LotArea 9977.846\n",
            "Max LotArea 215245\n",
            "Skewness LotArea 12.195\n",
            "-------------------------------------\n"
          ]
        }
      ]
    },
    {
      "cell_type": "markdown",
      "source": [
        "Problem 1.5 (5 Points) Obtain both the Spearman correlation and the Pearson correlation between the following variables “SalePrice”, “BsmtFinSF1”, and “LotArea”."
      ],
      "metadata": {
        "id": "YkJ5TVcojI4X"
      }
    },
    {
      "cell_type": "code",
      "source": [
        "#1.5\n",
        "\n",
        "#SPEARMAN CORRELATION\n",
        "\n",
        "\n",
        "spearman_data = df.corr(method='spearman')\n",
        "print('SPEARMAN CORRELATION')\n",
        "print(spearman_data)\n",
        "\n",
        "#PEARSON CORRELATION\n",
        "pearson_data = df.corr(method='pearson')\n",
        "print('\\nPEARSON CORRELATION')\n",
        "print(pearson_data)"
      ],
      "metadata": {
        "id": "VUi5gScmju8A",
        "colab": {
          "base_uri": "https://localhost:8080/"
        },
        "outputId": "ee96896b-1405-4ae4-82d6-a23699f10778"
      },
      "execution_count": null,
      "outputs": [
        {
          "output_type": "stream",
          "name": "stdout",
          "text": [
            "SPEARMAN CORRELATION\n",
            "            Fireplaces  SalePrice   LotArea  BsmtFinSF1\n",
            "Fireplaces    1.000000   0.519247  0.350198    0.192264\n",
            "SalePrice     0.519247   1.000000  0.456461    0.301871\n",
            "LotArea       0.350198   0.456461  1.000000    0.171995\n",
            "BsmtFinSF1    0.192264   0.301871  0.171995    1.000000\n",
            "\n",
            "PEARSON CORRELATION\n",
            "            Fireplaces  SalePrice   LotArea  BsmtFinSF1\n",
            "Fireplaces    1.000000   0.466929  0.271364    0.260011\n",
            "SalePrice     0.466929   1.000000  0.263843    0.386420\n",
            "LotArea       0.271364   0.263843  1.000000    0.214103\n",
            "BsmtFinSF1    0.260011   0.386420  0.214103    1.000000\n"
          ]
        }
      ]
    },
    {
      "cell_type": "code",
      "source": [
        "#PEARSON CORRELATION\n",
        "# Apply the pearsonr()\n",
        "\n",
        "#calculate Pearson correlation and corresponding p-value\n",
        "def run_pearson_correlation(column1, column2):\n",
        "\n",
        "    #run Pearson correlation\n",
        "    corr, _ = pearsonr(df[column1], df[column2])\n",
        "\n",
        "\n",
        "    print(f'Pearsons correlation for {column1} and {column2} is : %.3f' % corr)\n",
        "\n",
        "\n",
        "run_pearson_correlation('SalePrice', 'LotArea')\n",
        "run_pearson_correlation('SalePrice', 'BsmtFinSF1')\n",
        "run_pearson_correlation('LotArea', 'BsmtFinSF1')"
      ],
      "metadata": {
        "id": "yHvuW3EPqcWm",
        "colab": {
          "base_uri": "https://localhost:8080/"
        },
        "outputId": "fa2058a6-a06a-4acb-ec0d-07313bb90a72"
      },
      "execution_count": null,
      "outputs": [
        {
          "output_type": "stream",
          "name": "stdout",
          "text": [
            "Pearsons correlation for SalePrice and LotArea is : 0.264\n",
            "Pearsons correlation for SalePrice and BsmtFinSF1 is : 0.386\n",
            "Pearsons correlation for LotArea and BsmtFinSF1 is : 0.214\n"
          ]
        }
      ]
    },
    {
      "cell_type": "markdown",
      "source": [
        "PROBLEM 2"
      ],
      "metadata": {
        "id": "Zcu1BNa1jIs-"
      }
    },
    {
      "cell_type": "markdown",
      "source": [
        "STEP #1: Obtain rank of each case based on their “SalePrice”.  The rank of the case with the smallest ”SalePrice” has rank 1."
      ],
      "metadata": {
        "id": "ZT4Dw_owjX2J"
      }
    },
    {
      "cell_type": "code",
      "source": [
        "#2.1\n",
        "\n",
        "df[\"SalePrice_Rank\"] = df[\"SalePrice\"].rank()\n",
        "\n",
        "# sorting w.r.t name column\n",
        "df.sort_values(\"SalePrice\", inplace = True)\n",
        "\n",
        "# display after sorting w.r.t Name column\n",
        "print(df)"
      ],
      "metadata": {
        "id": "KVe3N4GSjwWT",
        "colab": {
          "base_uri": "https://localhost:8080/"
        },
        "outputId": "ba909611-1b5d-47cf-e97d-582c843ff2ce"
      },
      "execution_count": null,
      "outputs": [
        {
          "output_type": "stream",
          "name": "stdout",
          "text": [
            "      Fireplaces  SalePrice  LotArea  BsmtFinSF1  SalePrice_Rank\n",
            "495            0      34900     7879         495             1.0\n",
            "916            0      35311     9000          50             2.0\n",
            "968            0      37900     5925           0             3.0\n",
            "533            0      39300     5000           0             4.0\n",
            "30             0      40000     8500           0             5.0\n",
            "...          ...        ...      ...         ...             ...\n",
            "803            1     582933    13891           0          1456.0\n",
            "898            2     611657    12919        2188          1457.0\n",
            "1169           1     625000    35760        1387          1458.0\n",
            "1182           2     745000    15623        2096          1459.0\n",
            "691            2     755000    21535        1455          1460.0\n",
            "\n",
            "[1460 rows x 5 columns]\n"
          ]
        }
      ]
    },
    {
      "cell_type": "markdown",
      "source": [
        "STEP #2: Split the data into 25 bins with each bin has approximately the same number of observations (58 or 59 observations per bin) based on the rank of “SalePrice”.  The observations with largest “SalePrice” go to bin #25 and with smallest “SalePrice” go to bin #1."
      ],
      "metadata": {
        "id": "06DnjsAOjaQE"
      }
    },
    {
      "cell_type": "code",
      "source": [
        "#2.2\n",
        "\n",
        "# 2.2 splitting SalePrice Rank into 25 bins (0-58, 59-117,..., 1402-1460)\n",
        "rank_bins = pd.Series(pd.qcut(range(1460), 25)).value_counts()\n",
        "\n",
        "\n",
        "rank_bins = rank_bins.reset_index().sort_values(by=['index'])\n",
        "\n",
        "rank_bins.rename(columns={\"index\": \"Bin_Range\", 0:\"Numbers_per_Bin\"}, inplace=True)\n",
        "rank_bins = rank_bins.reset_index()\n",
        "rank_bins = rank_bins[['Bin_Range', 'Numbers_per_Bin']]\n"
      ],
      "metadata": {
        "id": "NrcZ58mBjyCT"
      },
      "execution_count": null,
      "outputs": []
    },
    {
      "cell_type": "code",
      "source": [
        " df['SalePrice_Rank'].head(100)\n"
      ],
      "metadata": {
        "id": "d4yu6Lr9_Rjm",
        "colab": {
          "base_uri": "https://localhost:8080/"
        },
        "outputId": "84e67f7d-d475-45a1-9f97-61a87bb3aaac"
      },
      "execution_count": null,
      "outputs": [
        {
          "output_type": "execute_result",
          "data": {
            "text/plain": [
              "495       1.0\n",
              "916       2.0\n",
              "968       3.0\n",
              "533       4.0\n",
              "30        5.0\n",
              "        ...  \n",
              "1131     95.5\n",
              "1137     97.0\n",
              "232      98.0\n",
              "97       99.0\n",
              "1186    100.5\n",
              "Name: SalePrice_Rank, Length: 100, dtype: float64"
            ]
          },
          "metadata": {},
          "execution_count": 12
        }
      ]
    },
    {
      "cell_type": "code",
      "source": [
        "#Maria- fixing the bin count\n",
        "df[\"SalePrice_Rank\"] = df[\"SalePrice\"].rank(method = 'first')\n",
        "\n",
        "# sorting w.r.t name column\n",
        "df.sort_values(\"SalePrice\", inplace = True)\n",
        "\n",
        "# display after sorting w.r.t Name column\n",
        "print(df)"
      ],
      "metadata": {
        "id": "h5-3frD5AdA8",
        "colab": {
          "base_uri": "https://localhost:8080/"
        },
        "outputId": "0a5a4a2c-1db6-44e4-8f21-06ab7343679c"
      },
      "execution_count": null,
      "outputs": [
        {
          "output_type": "stream",
          "name": "stdout",
          "text": [
            "      Fireplaces  SalePrice  LotArea  BsmtFinSF1  SalePrice_Rank\n",
            "495            0      34900     7879         495             1.0\n",
            "916            0      35311     9000          50             2.0\n",
            "968            0      37900     5925           0             3.0\n",
            "533            0      39300     5000           0             4.0\n",
            "30             0      40000     8500           0             5.0\n",
            "...          ...        ...      ...         ...             ...\n",
            "803            1     582933    13891           0          1456.0\n",
            "898            2     611657    12919        2188          1457.0\n",
            "1169           1     625000    35760        1387          1458.0\n",
            "1182           2     745000    15623        2096          1459.0\n",
            "691            2     755000    21535        1455          1460.0\n",
            "\n",
            "[1460 rows x 5 columns]\n"
          ]
        }
      ]
    },
    {
      "cell_type": "code",
      "source": [
        "#Maria\n",
        "# 2.2 splitting SalePrice Rank into 25 bins (0-58, 59-117,..., 1402-1460)\n",
        "binz = pd.qcut(df.SalePrice_Rank, q=25, labels=range(1,26))\n",
        "binz"
      ],
      "metadata": {
        "id": "hXfDE3upE0cK",
        "colab": {
          "base_uri": "https://localhost:8080/"
        },
        "outputId": "35b70246-5c59-4c7c-8fb7-73427ae38a34"
      },
      "execution_count": null,
      "outputs": [
        {
          "output_type": "execute_result",
          "data": {
            "text/plain": [
              "495      1\n",
              "916      1\n",
              "968      1\n",
              "533      1\n",
              "30       1\n",
              "        ..\n",
              "803     25\n",
              "898     25\n",
              "1169    25\n",
              "1182    25\n",
              "691     25\n",
              "Name: SalePrice_Rank, Length: 1460, dtype: category\n",
              "Categories (25, int64): [1 < 2 < 3 < 4 ... 22 < 23 < 24 < 25]"
            ]
          },
          "metadata": {},
          "execution_count": 14
        }
      ]
    },
    {
      "cell_type": "code",
      "source": [
        "#Maria\n",
        "df['binz'] = pd.qcut(df.SalePrice_Rank, q=25, labels=range(1,26))\n",
        "df"
      ],
      "metadata": {
        "id": "tyaFu62cE4Jf",
        "colab": {
          "base_uri": "https://localhost:8080/",
          "height": 424
        },
        "outputId": "e500aa84-f12f-4ca1-8a32-b951ca02c3fe"
      },
      "execution_count": null,
      "outputs": [
        {
          "output_type": "execute_result",
          "data": {
            "text/plain": [
              "      Fireplaces  SalePrice  LotArea  BsmtFinSF1  SalePrice_Rank binz\n",
              "495            0      34900     7879         495             1.0    1\n",
              "916            0      35311     9000          50             2.0    1\n",
              "968            0      37900     5925           0             3.0    1\n",
              "533            0      39300     5000           0             4.0    1\n",
              "30             0      40000     8500           0             5.0    1\n",
              "...          ...        ...      ...         ...             ...  ...\n",
              "803            1     582933    13891           0          1456.0   25\n",
              "898            2     611657    12919        2188          1457.0   25\n",
              "1169           1     625000    35760        1387          1458.0   25\n",
              "1182           2     745000    15623        2096          1459.0   25\n",
              "691            2     755000    21535        1455          1460.0   25\n",
              "\n",
              "[1460 rows x 6 columns]"
            ],
            "text/html": [
              "\n",
              "  <div id=\"df-c84c5374-c5e0-40a5-b52a-29d609d870f6\">\n",
              "    <div class=\"colab-df-container\">\n",
              "      <div>\n",
              "<style scoped>\n",
              "    .dataframe tbody tr th:only-of-type {\n",
              "        vertical-align: middle;\n",
              "    }\n",
              "\n",
              "    .dataframe tbody tr th {\n",
              "        vertical-align: top;\n",
              "    }\n",
              "\n",
              "    .dataframe thead th {\n",
              "        text-align: right;\n",
              "    }\n",
              "</style>\n",
              "<table border=\"1\" class=\"dataframe\">\n",
              "  <thead>\n",
              "    <tr style=\"text-align: right;\">\n",
              "      <th></th>\n",
              "      <th>Fireplaces</th>\n",
              "      <th>SalePrice</th>\n",
              "      <th>LotArea</th>\n",
              "      <th>BsmtFinSF1</th>\n",
              "      <th>SalePrice_Rank</th>\n",
              "      <th>binz</th>\n",
              "    </tr>\n",
              "  </thead>\n",
              "  <tbody>\n",
              "    <tr>\n",
              "      <th>495</th>\n",
              "      <td>0</td>\n",
              "      <td>34900</td>\n",
              "      <td>7879</td>\n",
              "      <td>495</td>\n",
              "      <td>1.0</td>\n",
              "      <td>1</td>\n",
              "    </tr>\n",
              "    <tr>\n",
              "      <th>916</th>\n",
              "      <td>0</td>\n",
              "      <td>35311</td>\n",
              "      <td>9000</td>\n",
              "      <td>50</td>\n",
              "      <td>2.0</td>\n",
              "      <td>1</td>\n",
              "    </tr>\n",
              "    <tr>\n",
              "      <th>968</th>\n",
              "      <td>0</td>\n",
              "      <td>37900</td>\n",
              "      <td>5925</td>\n",
              "      <td>0</td>\n",
              "      <td>3.0</td>\n",
              "      <td>1</td>\n",
              "    </tr>\n",
              "    <tr>\n",
              "      <th>533</th>\n",
              "      <td>0</td>\n",
              "      <td>39300</td>\n",
              "      <td>5000</td>\n",
              "      <td>0</td>\n",
              "      <td>4.0</td>\n",
              "      <td>1</td>\n",
              "    </tr>\n",
              "    <tr>\n",
              "      <th>30</th>\n",
              "      <td>0</td>\n",
              "      <td>40000</td>\n",
              "      <td>8500</td>\n",
              "      <td>0</td>\n",
              "      <td>5.0</td>\n",
              "      <td>1</td>\n",
              "    </tr>\n",
              "    <tr>\n",
              "      <th>...</th>\n",
              "      <td>...</td>\n",
              "      <td>...</td>\n",
              "      <td>...</td>\n",
              "      <td>...</td>\n",
              "      <td>...</td>\n",
              "      <td>...</td>\n",
              "    </tr>\n",
              "    <tr>\n",
              "      <th>803</th>\n",
              "      <td>1</td>\n",
              "      <td>582933</td>\n",
              "      <td>13891</td>\n",
              "      <td>0</td>\n",
              "      <td>1456.0</td>\n",
              "      <td>25</td>\n",
              "    </tr>\n",
              "    <tr>\n",
              "      <th>898</th>\n",
              "      <td>2</td>\n",
              "      <td>611657</td>\n",
              "      <td>12919</td>\n",
              "      <td>2188</td>\n",
              "      <td>1457.0</td>\n",
              "      <td>25</td>\n",
              "    </tr>\n",
              "    <tr>\n",
              "      <th>1169</th>\n",
              "      <td>1</td>\n",
              "      <td>625000</td>\n",
              "      <td>35760</td>\n",
              "      <td>1387</td>\n",
              "      <td>1458.0</td>\n",
              "      <td>25</td>\n",
              "    </tr>\n",
              "    <tr>\n",
              "      <th>1182</th>\n",
              "      <td>2</td>\n",
              "      <td>745000</td>\n",
              "      <td>15623</td>\n",
              "      <td>2096</td>\n",
              "      <td>1459.0</td>\n",
              "      <td>25</td>\n",
              "    </tr>\n",
              "    <tr>\n",
              "      <th>691</th>\n",
              "      <td>2</td>\n",
              "      <td>755000</td>\n",
              "      <td>21535</td>\n",
              "      <td>1455</td>\n",
              "      <td>1460.0</td>\n",
              "      <td>25</td>\n",
              "    </tr>\n",
              "  </tbody>\n",
              "</table>\n",
              "<p>1460 rows × 6 columns</p>\n",
              "</div>\n",
              "      <button class=\"colab-df-convert\" onclick=\"convertToInteractive('df-c84c5374-c5e0-40a5-b52a-29d609d870f6')\"\n",
              "              title=\"Convert this dataframe to an interactive table.\"\n",
              "              style=\"display:none;\">\n",
              "        \n",
              "  <svg xmlns=\"http://www.w3.org/2000/svg\" height=\"24px\"viewBox=\"0 0 24 24\"\n",
              "       width=\"24px\">\n",
              "    <path d=\"M0 0h24v24H0V0z\" fill=\"none\"/>\n",
              "    <path d=\"M18.56 5.44l.94 2.06.94-2.06 2.06-.94-2.06-.94-.94-2.06-.94 2.06-2.06.94zm-11 1L8.5 8.5l.94-2.06 2.06-.94-2.06-.94L8.5 2.5l-.94 2.06-2.06.94zm10 10l.94 2.06.94-2.06 2.06-.94-2.06-.94-.94-2.06-.94 2.06-2.06.94z\"/><path d=\"M17.41 7.96l-1.37-1.37c-.4-.4-.92-.59-1.43-.59-.52 0-1.04.2-1.43.59L10.3 9.45l-7.72 7.72c-.78.78-.78 2.05 0 2.83L4 21.41c.39.39.9.59 1.41.59.51 0 1.02-.2 1.41-.59l7.78-7.78 2.81-2.81c.8-.78.8-2.07 0-2.86zM5.41 20L4 18.59l7.72-7.72 1.47 1.35L5.41 20z\"/>\n",
              "  </svg>\n",
              "      </button>\n",
              "      \n",
              "  <style>\n",
              "    .colab-df-container {\n",
              "      display:flex;\n",
              "      flex-wrap:wrap;\n",
              "      gap: 12px;\n",
              "    }\n",
              "\n",
              "    .colab-df-convert {\n",
              "      background-color: #E8F0FE;\n",
              "      border: none;\n",
              "      border-radius: 50%;\n",
              "      cursor: pointer;\n",
              "      display: none;\n",
              "      fill: #1967D2;\n",
              "      height: 32px;\n",
              "      padding: 0 0 0 0;\n",
              "      width: 32px;\n",
              "    }\n",
              "\n",
              "    .colab-df-convert:hover {\n",
              "      background-color: #E2EBFA;\n",
              "      box-shadow: 0px 1px 2px rgba(60, 64, 67, 0.3), 0px 1px 3px 1px rgba(60, 64, 67, 0.15);\n",
              "      fill: #174EA6;\n",
              "    }\n",
              "\n",
              "    [theme=dark] .colab-df-convert {\n",
              "      background-color: #3B4455;\n",
              "      fill: #D2E3FC;\n",
              "    }\n",
              "\n",
              "    [theme=dark] .colab-df-convert:hover {\n",
              "      background-color: #434B5C;\n",
              "      box-shadow: 0px 1px 3px 1px rgba(0, 0, 0, 0.15);\n",
              "      filter: drop-shadow(0px 1px 2px rgba(0, 0, 0, 0.3));\n",
              "      fill: #FFFFFF;\n",
              "    }\n",
              "  </style>\n",
              "\n",
              "      <script>\n",
              "        const buttonEl =\n",
              "          document.querySelector('#df-c84c5374-c5e0-40a5-b52a-29d609d870f6 button.colab-df-convert');\n",
              "        buttonEl.style.display =\n",
              "          google.colab.kernel.accessAllowed ? 'block' : 'none';\n",
              "\n",
              "        async function convertToInteractive(key) {\n",
              "          const element = document.querySelector('#df-c84c5374-c5e0-40a5-b52a-29d609d870f6');\n",
              "          const dataTable =\n",
              "            await google.colab.kernel.invokeFunction('convertToInteractive',\n",
              "                                                     [key], {});\n",
              "          if (!dataTable) return;\n",
              "\n",
              "          const docLinkHtml = 'Like what you see? Visit the ' +\n",
              "            '<a target=\"_blank\" href=https://colab.research.google.com/notebooks/data_table.ipynb>data table notebook</a>'\n",
              "            + ' to learn more about interactive tables.';\n",
              "          element.innerHTML = '';\n",
              "          dataTable['output_type'] = 'display_data';\n",
              "          await google.colab.output.renderOutput(dataTable, element);\n",
              "          const docLink = document.createElement('div');\n",
              "          docLink.innerHTML = docLinkHtml;\n",
              "          element.appendChild(docLink);\n",
              "        }\n",
              "      </script>\n",
              "    </div>\n",
              "  </div>\n",
              "  "
            ]
          },
          "metadata": {},
          "execution_count": 15
        }
      ]
    },
    {
      "cell_type": "code",
      "source": [
        "#Maria\n",
        "df['binz'].value_counts()"
      ],
      "metadata": {
        "id": "uxcVjOqQAWZV",
        "colab": {
          "base_uri": "https://localhost:8080/"
        },
        "outputId": "6096ca2f-b1dc-47cc-f57c-b01bbe3093c4"
      },
      "execution_count": null,
      "outputs": [
        {
          "output_type": "execute_result",
          "data": {
            "text/plain": [
              "1     59\n",
              "9     59\n",
              "23    59\n",
              "20    59\n",
              "17    59\n",
              "14    59\n",
              "12    59\n",
              "25    59\n",
              "3     59\n",
              "6     59\n",
              "8     58\n",
              "18    58\n",
              "24    58\n",
              "22    58\n",
              "21    58\n",
              "4     58\n",
              "19    58\n",
              "5     58\n",
              "10    58\n",
              "16    58\n",
              "15    58\n",
              "2     58\n",
              "7     58\n",
              "11    58\n",
              "13    58\n",
              "Name: binz, dtype: int64"
            ]
          },
          "metadata": {},
          "execution_count": 16
        }
      ]
    },
    {
      "cell_type": "markdown",
      "source": [
        "STEP #3: Calculate logit of each bin with the formula\n",
        "\n",
        "logit=log(p/(1-p)), where p=(sum(FirePlace>0 in this bin)+0.5)/(Total Cases in this bin).\n"
      ],
      "metadata": {
        "id": "Tf0c9_CQjch2"
      }
    },
    {
      "cell_type": "code",
      "source": [
        "#2.3\n",
        "#Maria- idk if my groups syntax is quite right but this was my attempt\n",
        "groups = df['SalePrice_Rank'].groupby(df['binz'])\n",
        "groups"
      ],
      "metadata": {
        "id": "qybTsxACAxn3",
        "colab": {
          "base_uri": "https://localhost:8080/"
        },
        "outputId": "6fc87af4-50d5-41bb-a114-38351497ec59"
      },
      "execution_count": null,
      "outputs": [
        {
          "output_type": "execute_result",
          "data": {
            "text/plain": [
              "<pandas.core.groupby.generic.SeriesGroupBy object at 0x7f8f6026d6d0>"
            ]
          },
          "metadata": {},
          "execution_count": 17
        }
      ]
    },
    {
      "cell_type": "code",
      "source": [
        "#brendan\n",
        "my_groups = df.groupby(df['binz']).mean().reset_index()\n",
        "avg_sale_price_df = my_groups[['binz','SalePrice']]"
      ],
      "metadata": {
        "id": "Re_eeqiFQK_l"
      },
      "execution_count": null,
      "outputs": []
    },
    {
      "cell_type": "code",
      "source": [
        "logit_dict = {}\n",
        "\n",
        "for x in range(1,26):\n",
        "    df1 = df[df['binz'] == x]\n",
        "    y = df1['Fireplaces']\n",
        "    p = (np.sum(df1['Fireplaces'] > 0) + 0.5) / len(df1['SalePrice_Rank'])\n",
        "    logit = np.log(p / (1 - p))\n",
        "    #Do something with logit\n",
        "    logit_dict[x]= logit\n",
        "\n",
        "logit_df = pd.DataFrame.from_dict(logit_dict, orient='index').reset_index()\n",
        "\n",
        "logit_df = logit_df.rename(columns = {'index':'binz', 0:'logit'})\n",
        "\n",
        "\n",
        "logit_df"
      ],
      "metadata": {
        "id": "ZZkyS2GDSNcb",
        "colab": {
          "base_uri": "https://localhost:8080/",
          "height": 868
        },
        "outputId": "5afac7a7-5404-4dbd-be19-1600a286ff61"
      },
      "execution_count": null,
      "outputs": [
        {
          "output_type": "stream",
          "name": "stderr",
          "text": [
            "<ipython-input-19-d460ad3c3a1f>:7: RuntimeWarning: invalid value encountered in log\n",
            "  logit = np.log(p / (1 - p))\n"
          ]
        },
        {
          "output_type": "execute_result",
          "data": {
            "text/plain": [
              "    binz     logit\n",
              "0      1 -2.763620\n",
              "1      2 -1.509354\n",
              "2      3 -1.781907\n",
              "3      4 -1.192800\n",
              "4      5 -0.680244\n",
              "5      6 -1.418383\n",
              "6      7 -0.922333\n",
              "7      8 -0.839101\n",
              "8      9 -0.483797\n",
              "9     10 -0.529259\n",
              "10    11 -0.312872\n",
              "11    12  0.135802\n",
              "12    13  1.008664\n",
              "13    14  0.556288\n",
              "14    15  0.839101\n",
              "15    16  0.839101\n",
              "16    17  1.031921\n",
              "17    18  0.172843\n",
              "18    19  0.456017\n",
              "19    20  0.783531\n",
              "20    21  1.509354\n",
              "21    22  1.761907\n",
              "22    23  4.762174\n",
              "23    24  2.745438\n",
              "24    25       NaN"
            ],
            "text/html": [
              "\n",
              "  <div id=\"df-495b49c2-3e40-47b3-a8a6-7820d49df2d3\">\n",
              "    <div class=\"colab-df-container\">\n",
              "      <div>\n",
              "<style scoped>\n",
              "    .dataframe tbody tr th:only-of-type {\n",
              "        vertical-align: middle;\n",
              "    }\n",
              "\n",
              "    .dataframe tbody tr th {\n",
              "        vertical-align: top;\n",
              "    }\n",
              "\n",
              "    .dataframe thead th {\n",
              "        text-align: right;\n",
              "    }\n",
              "</style>\n",
              "<table border=\"1\" class=\"dataframe\">\n",
              "  <thead>\n",
              "    <tr style=\"text-align: right;\">\n",
              "      <th></th>\n",
              "      <th>binz</th>\n",
              "      <th>logit</th>\n",
              "    </tr>\n",
              "  </thead>\n",
              "  <tbody>\n",
              "    <tr>\n",
              "      <th>0</th>\n",
              "      <td>1</td>\n",
              "      <td>-2.763620</td>\n",
              "    </tr>\n",
              "    <tr>\n",
              "      <th>1</th>\n",
              "      <td>2</td>\n",
              "      <td>-1.509354</td>\n",
              "    </tr>\n",
              "    <tr>\n",
              "      <th>2</th>\n",
              "      <td>3</td>\n",
              "      <td>-1.781907</td>\n",
              "    </tr>\n",
              "    <tr>\n",
              "      <th>3</th>\n",
              "      <td>4</td>\n",
              "      <td>-1.192800</td>\n",
              "    </tr>\n",
              "    <tr>\n",
              "      <th>4</th>\n",
              "      <td>5</td>\n",
              "      <td>-0.680244</td>\n",
              "    </tr>\n",
              "    <tr>\n",
              "      <th>5</th>\n",
              "      <td>6</td>\n",
              "      <td>-1.418383</td>\n",
              "    </tr>\n",
              "    <tr>\n",
              "      <th>6</th>\n",
              "      <td>7</td>\n",
              "      <td>-0.922333</td>\n",
              "    </tr>\n",
              "    <tr>\n",
              "      <th>7</th>\n",
              "      <td>8</td>\n",
              "      <td>-0.839101</td>\n",
              "    </tr>\n",
              "    <tr>\n",
              "      <th>8</th>\n",
              "      <td>9</td>\n",
              "      <td>-0.483797</td>\n",
              "    </tr>\n",
              "    <tr>\n",
              "      <th>9</th>\n",
              "      <td>10</td>\n",
              "      <td>-0.529259</td>\n",
              "    </tr>\n",
              "    <tr>\n",
              "      <th>10</th>\n",
              "      <td>11</td>\n",
              "      <td>-0.312872</td>\n",
              "    </tr>\n",
              "    <tr>\n",
              "      <th>11</th>\n",
              "      <td>12</td>\n",
              "      <td>0.135802</td>\n",
              "    </tr>\n",
              "    <tr>\n",
              "      <th>12</th>\n",
              "      <td>13</td>\n",
              "      <td>1.008664</td>\n",
              "    </tr>\n",
              "    <tr>\n",
              "      <th>13</th>\n",
              "      <td>14</td>\n",
              "      <td>0.556288</td>\n",
              "    </tr>\n",
              "    <tr>\n",
              "      <th>14</th>\n",
              "      <td>15</td>\n",
              "      <td>0.839101</td>\n",
              "    </tr>\n",
              "    <tr>\n",
              "      <th>15</th>\n",
              "      <td>16</td>\n",
              "      <td>0.839101</td>\n",
              "    </tr>\n",
              "    <tr>\n",
              "      <th>16</th>\n",
              "      <td>17</td>\n",
              "      <td>1.031921</td>\n",
              "    </tr>\n",
              "    <tr>\n",
              "      <th>17</th>\n",
              "      <td>18</td>\n",
              "      <td>0.172843</td>\n",
              "    </tr>\n",
              "    <tr>\n",
              "      <th>18</th>\n",
              "      <td>19</td>\n",
              "      <td>0.456017</td>\n",
              "    </tr>\n",
              "    <tr>\n",
              "      <th>19</th>\n",
              "      <td>20</td>\n",
              "      <td>0.783531</td>\n",
              "    </tr>\n",
              "    <tr>\n",
              "      <th>20</th>\n",
              "      <td>21</td>\n",
              "      <td>1.509354</td>\n",
              "    </tr>\n",
              "    <tr>\n",
              "      <th>21</th>\n",
              "      <td>22</td>\n",
              "      <td>1.761907</td>\n",
              "    </tr>\n",
              "    <tr>\n",
              "      <th>22</th>\n",
              "      <td>23</td>\n",
              "      <td>4.762174</td>\n",
              "    </tr>\n",
              "    <tr>\n",
              "      <th>23</th>\n",
              "      <td>24</td>\n",
              "      <td>2.745438</td>\n",
              "    </tr>\n",
              "    <tr>\n",
              "      <th>24</th>\n",
              "      <td>25</td>\n",
              "      <td>NaN</td>\n",
              "    </tr>\n",
              "  </tbody>\n",
              "</table>\n",
              "</div>\n",
              "      <button class=\"colab-df-convert\" onclick=\"convertToInteractive('df-495b49c2-3e40-47b3-a8a6-7820d49df2d3')\"\n",
              "              title=\"Convert this dataframe to an interactive table.\"\n",
              "              style=\"display:none;\">\n",
              "        \n",
              "  <svg xmlns=\"http://www.w3.org/2000/svg\" height=\"24px\"viewBox=\"0 0 24 24\"\n",
              "       width=\"24px\">\n",
              "    <path d=\"M0 0h24v24H0V0z\" fill=\"none\"/>\n",
              "    <path d=\"M18.56 5.44l.94 2.06.94-2.06 2.06-.94-2.06-.94-.94-2.06-.94 2.06-2.06.94zm-11 1L8.5 8.5l.94-2.06 2.06-.94-2.06-.94L8.5 2.5l-.94 2.06-2.06.94zm10 10l.94 2.06.94-2.06 2.06-.94-2.06-.94-.94-2.06-.94 2.06-2.06.94z\"/><path d=\"M17.41 7.96l-1.37-1.37c-.4-.4-.92-.59-1.43-.59-.52 0-1.04.2-1.43.59L10.3 9.45l-7.72 7.72c-.78.78-.78 2.05 0 2.83L4 21.41c.39.39.9.59 1.41.59.51 0 1.02-.2 1.41-.59l7.78-7.78 2.81-2.81c.8-.78.8-2.07 0-2.86zM5.41 20L4 18.59l7.72-7.72 1.47 1.35L5.41 20z\"/>\n",
              "  </svg>\n",
              "      </button>\n",
              "      \n",
              "  <style>\n",
              "    .colab-df-container {\n",
              "      display:flex;\n",
              "      flex-wrap:wrap;\n",
              "      gap: 12px;\n",
              "    }\n",
              "\n",
              "    .colab-df-convert {\n",
              "      background-color: #E8F0FE;\n",
              "      border: none;\n",
              "      border-radius: 50%;\n",
              "      cursor: pointer;\n",
              "      display: none;\n",
              "      fill: #1967D2;\n",
              "      height: 32px;\n",
              "      padding: 0 0 0 0;\n",
              "      width: 32px;\n",
              "    }\n",
              "\n",
              "    .colab-df-convert:hover {\n",
              "      background-color: #E2EBFA;\n",
              "      box-shadow: 0px 1px 2px rgba(60, 64, 67, 0.3), 0px 1px 3px 1px rgba(60, 64, 67, 0.15);\n",
              "      fill: #174EA6;\n",
              "    }\n",
              "\n",
              "    [theme=dark] .colab-df-convert {\n",
              "      background-color: #3B4455;\n",
              "      fill: #D2E3FC;\n",
              "    }\n",
              "\n",
              "    [theme=dark] .colab-df-convert:hover {\n",
              "      background-color: #434B5C;\n",
              "      box-shadow: 0px 1px 3px 1px rgba(0, 0, 0, 0.15);\n",
              "      filter: drop-shadow(0px 1px 2px rgba(0, 0, 0, 0.3));\n",
              "      fill: #FFFFFF;\n",
              "    }\n",
              "  </style>\n",
              "\n",
              "      <script>\n",
              "        const buttonEl =\n",
              "          document.querySelector('#df-495b49c2-3e40-47b3-a8a6-7820d49df2d3 button.colab-df-convert');\n",
              "        buttonEl.style.display =\n",
              "          google.colab.kernel.accessAllowed ? 'block' : 'none';\n",
              "\n",
              "        async function convertToInteractive(key) {\n",
              "          const element = document.querySelector('#df-495b49c2-3e40-47b3-a8a6-7820d49df2d3');\n",
              "          const dataTable =\n",
              "            await google.colab.kernel.invokeFunction('convertToInteractive',\n",
              "                                                     [key], {});\n",
              "          if (!dataTable) return;\n",
              "\n",
              "          const docLinkHtml = 'Like what you see? Visit the ' +\n",
              "            '<a target=\"_blank\" href=https://colab.research.google.com/notebooks/data_table.ipynb>data table notebook</a>'\n",
              "            + ' to learn more about interactive tables.';\n",
              "          element.innerHTML = '';\n",
              "          dataTable['output_type'] = 'display_data';\n",
              "          await google.colab.output.renderOutput(dataTable, element);\n",
              "          const docLink = document.createElement('div');\n",
              "          docLink.innerHTML = docLinkHtml;\n",
              "          element.appendChild(docLink);\n",
              "        }\n",
              "      </script>\n",
              "    </div>\n",
              "  </div>\n",
              "  "
            ]
          },
          "metadata": {},
          "execution_count": 19
        }
      ]
    },
    {
      "cell_type": "code",
      "source": [
        "#merge logit df and average sale price df\n",
        "combined_avg_logit_df = avg_sale_price_df.merge(logit_df, on=['binz'])\n",
        "\n",
        "combined_avg_logit_df = combined_avg_logit_df.rename(columns={'SalePrice':\"AvgSalePrice\"})\n",
        "\n",
        "combined_avg_logit_df.drop(combined_avg_logit_df.tail(1).index, inplace = True)\n",
        "\n",
        "combined_avg_logit_df"
      ],
      "metadata": {
        "id": "f1KfMFOBWOWK",
        "colab": {
          "base_uri": "https://localhost:8080/",
          "height": 802
        },
        "outputId": "51c589cc-937b-4af0-9009-cd794b926ff2"
      },
      "execution_count": null,
      "outputs": [
        {
          "output_type": "execute_result",
          "data": {
            "text/plain": [
              "    binz   AvgSalePrice     logit\n",
              "0      1   71243.847458 -2.763620\n",
              "1      2   92197.775862 -1.509354\n",
              "2      3  105869.033898 -1.781907\n",
              "3      4  113348.344828 -1.192800\n",
              "4      5  120363.310345 -0.680244\n",
              "5      6  126517.372881 -1.418383\n",
              "6      7  131044.827586 -0.922333\n",
              "7      8  135821.500000 -0.839101\n",
              "8      9  140072.237288 -0.483797\n",
              "9     10  144481.982759 -0.529259\n",
              "10    11  149966.155172 -0.312872\n",
              "11    12  156379.254237  0.135802\n",
              "12    13  162831.465517  1.008664\n",
              "13    14  170252.508475  0.556288\n",
              "14    15  176371.672414  0.839101\n",
              "15    16  181973.948276  0.839101\n",
              "16    17  189370.169492  1.031921\n",
              "17    18  198462.241379  0.172843\n",
              "18    19  210493.793103  0.456017\n",
              "19    20  223813.694915  0.783531\n",
              "20    21  237224.362069  1.509354\n",
              "21    22  255908.517241  1.761907\n",
              "22    23  279293.949153  4.762174\n",
              "23    24  319501.000000  2.745438"
            ],
            "text/html": [
              "\n",
              "  <div id=\"df-22bd3540-2dc2-4569-a0a3-b5afe8eadfad\">\n",
              "    <div class=\"colab-df-container\">\n",
              "      <div>\n",
              "<style scoped>\n",
              "    .dataframe tbody tr th:only-of-type {\n",
              "        vertical-align: middle;\n",
              "    }\n",
              "\n",
              "    .dataframe tbody tr th {\n",
              "        vertical-align: top;\n",
              "    }\n",
              "\n",
              "    .dataframe thead th {\n",
              "        text-align: right;\n",
              "    }\n",
              "</style>\n",
              "<table border=\"1\" class=\"dataframe\">\n",
              "  <thead>\n",
              "    <tr style=\"text-align: right;\">\n",
              "      <th></th>\n",
              "      <th>binz</th>\n",
              "      <th>AvgSalePrice</th>\n",
              "      <th>logit</th>\n",
              "    </tr>\n",
              "  </thead>\n",
              "  <tbody>\n",
              "    <tr>\n",
              "      <th>0</th>\n",
              "      <td>1</td>\n",
              "      <td>71243.847458</td>\n",
              "      <td>-2.763620</td>\n",
              "    </tr>\n",
              "    <tr>\n",
              "      <th>1</th>\n",
              "      <td>2</td>\n",
              "      <td>92197.775862</td>\n",
              "      <td>-1.509354</td>\n",
              "    </tr>\n",
              "    <tr>\n",
              "      <th>2</th>\n",
              "      <td>3</td>\n",
              "      <td>105869.033898</td>\n",
              "      <td>-1.781907</td>\n",
              "    </tr>\n",
              "    <tr>\n",
              "      <th>3</th>\n",
              "      <td>4</td>\n",
              "      <td>113348.344828</td>\n",
              "      <td>-1.192800</td>\n",
              "    </tr>\n",
              "    <tr>\n",
              "      <th>4</th>\n",
              "      <td>5</td>\n",
              "      <td>120363.310345</td>\n",
              "      <td>-0.680244</td>\n",
              "    </tr>\n",
              "    <tr>\n",
              "      <th>5</th>\n",
              "      <td>6</td>\n",
              "      <td>126517.372881</td>\n",
              "      <td>-1.418383</td>\n",
              "    </tr>\n",
              "    <tr>\n",
              "      <th>6</th>\n",
              "      <td>7</td>\n",
              "      <td>131044.827586</td>\n",
              "      <td>-0.922333</td>\n",
              "    </tr>\n",
              "    <tr>\n",
              "      <th>7</th>\n",
              "      <td>8</td>\n",
              "      <td>135821.500000</td>\n",
              "      <td>-0.839101</td>\n",
              "    </tr>\n",
              "    <tr>\n",
              "      <th>8</th>\n",
              "      <td>9</td>\n",
              "      <td>140072.237288</td>\n",
              "      <td>-0.483797</td>\n",
              "    </tr>\n",
              "    <tr>\n",
              "      <th>9</th>\n",
              "      <td>10</td>\n",
              "      <td>144481.982759</td>\n",
              "      <td>-0.529259</td>\n",
              "    </tr>\n",
              "    <tr>\n",
              "      <th>10</th>\n",
              "      <td>11</td>\n",
              "      <td>149966.155172</td>\n",
              "      <td>-0.312872</td>\n",
              "    </tr>\n",
              "    <tr>\n",
              "      <th>11</th>\n",
              "      <td>12</td>\n",
              "      <td>156379.254237</td>\n",
              "      <td>0.135802</td>\n",
              "    </tr>\n",
              "    <tr>\n",
              "      <th>12</th>\n",
              "      <td>13</td>\n",
              "      <td>162831.465517</td>\n",
              "      <td>1.008664</td>\n",
              "    </tr>\n",
              "    <tr>\n",
              "      <th>13</th>\n",
              "      <td>14</td>\n",
              "      <td>170252.508475</td>\n",
              "      <td>0.556288</td>\n",
              "    </tr>\n",
              "    <tr>\n",
              "      <th>14</th>\n",
              "      <td>15</td>\n",
              "      <td>176371.672414</td>\n",
              "      <td>0.839101</td>\n",
              "    </tr>\n",
              "    <tr>\n",
              "      <th>15</th>\n",
              "      <td>16</td>\n",
              "      <td>181973.948276</td>\n",
              "      <td>0.839101</td>\n",
              "    </tr>\n",
              "    <tr>\n",
              "      <th>16</th>\n",
              "      <td>17</td>\n",
              "      <td>189370.169492</td>\n",
              "      <td>1.031921</td>\n",
              "    </tr>\n",
              "    <tr>\n",
              "      <th>17</th>\n",
              "      <td>18</td>\n",
              "      <td>198462.241379</td>\n",
              "      <td>0.172843</td>\n",
              "    </tr>\n",
              "    <tr>\n",
              "      <th>18</th>\n",
              "      <td>19</td>\n",
              "      <td>210493.793103</td>\n",
              "      <td>0.456017</td>\n",
              "    </tr>\n",
              "    <tr>\n",
              "      <th>19</th>\n",
              "      <td>20</td>\n",
              "      <td>223813.694915</td>\n",
              "      <td>0.783531</td>\n",
              "    </tr>\n",
              "    <tr>\n",
              "      <th>20</th>\n",
              "      <td>21</td>\n",
              "      <td>237224.362069</td>\n",
              "      <td>1.509354</td>\n",
              "    </tr>\n",
              "    <tr>\n",
              "      <th>21</th>\n",
              "      <td>22</td>\n",
              "      <td>255908.517241</td>\n",
              "      <td>1.761907</td>\n",
              "    </tr>\n",
              "    <tr>\n",
              "      <th>22</th>\n",
              "      <td>23</td>\n",
              "      <td>279293.949153</td>\n",
              "      <td>4.762174</td>\n",
              "    </tr>\n",
              "    <tr>\n",
              "      <th>23</th>\n",
              "      <td>24</td>\n",
              "      <td>319501.000000</td>\n",
              "      <td>2.745438</td>\n",
              "    </tr>\n",
              "  </tbody>\n",
              "</table>\n",
              "</div>\n",
              "      <button class=\"colab-df-convert\" onclick=\"convertToInteractive('df-22bd3540-2dc2-4569-a0a3-b5afe8eadfad')\"\n",
              "              title=\"Convert this dataframe to an interactive table.\"\n",
              "              style=\"display:none;\">\n",
              "        \n",
              "  <svg xmlns=\"http://www.w3.org/2000/svg\" height=\"24px\"viewBox=\"0 0 24 24\"\n",
              "       width=\"24px\">\n",
              "    <path d=\"M0 0h24v24H0V0z\" fill=\"none\"/>\n",
              "    <path d=\"M18.56 5.44l.94 2.06.94-2.06 2.06-.94-2.06-.94-.94-2.06-.94 2.06-2.06.94zm-11 1L8.5 8.5l.94-2.06 2.06-.94-2.06-.94L8.5 2.5l-.94 2.06-2.06.94zm10 10l.94 2.06.94-2.06 2.06-.94-2.06-.94-.94-2.06-.94 2.06-2.06.94z\"/><path d=\"M17.41 7.96l-1.37-1.37c-.4-.4-.92-.59-1.43-.59-.52 0-1.04.2-1.43.59L10.3 9.45l-7.72 7.72c-.78.78-.78 2.05 0 2.83L4 21.41c.39.39.9.59 1.41.59.51 0 1.02-.2 1.41-.59l7.78-7.78 2.81-2.81c.8-.78.8-2.07 0-2.86zM5.41 20L4 18.59l7.72-7.72 1.47 1.35L5.41 20z\"/>\n",
              "  </svg>\n",
              "      </button>\n",
              "      \n",
              "  <style>\n",
              "    .colab-df-container {\n",
              "      display:flex;\n",
              "      flex-wrap:wrap;\n",
              "      gap: 12px;\n",
              "    }\n",
              "\n",
              "    .colab-df-convert {\n",
              "      background-color: #E8F0FE;\n",
              "      border: none;\n",
              "      border-radius: 50%;\n",
              "      cursor: pointer;\n",
              "      display: none;\n",
              "      fill: #1967D2;\n",
              "      height: 32px;\n",
              "      padding: 0 0 0 0;\n",
              "      width: 32px;\n",
              "    }\n",
              "\n",
              "    .colab-df-convert:hover {\n",
              "      background-color: #E2EBFA;\n",
              "      box-shadow: 0px 1px 2px rgba(60, 64, 67, 0.3), 0px 1px 3px 1px rgba(60, 64, 67, 0.15);\n",
              "      fill: #174EA6;\n",
              "    }\n",
              "\n",
              "    [theme=dark] .colab-df-convert {\n",
              "      background-color: #3B4455;\n",
              "      fill: #D2E3FC;\n",
              "    }\n",
              "\n",
              "    [theme=dark] .colab-df-convert:hover {\n",
              "      background-color: #434B5C;\n",
              "      box-shadow: 0px 1px 3px 1px rgba(0, 0, 0, 0.15);\n",
              "      filter: drop-shadow(0px 1px 2px rgba(0, 0, 0, 0.3));\n",
              "      fill: #FFFFFF;\n",
              "    }\n",
              "  </style>\n",
              "\n",
              "      <script>\n",
              "        const buttonEl =\n",
              "          document.querySelector('#df-22bd3540-2dc2-4569-a0a3-b5afe8eadfad button.colab-df-convert');\n",
              "        buttonEl.style.display =\n",
              "          google.colab.kernel.accessAllowed ? 'block' : 'none';\n",
              "\n",
              "        async function convertToInteractive(key) {\n",
              "          const element = document.querySelector('#df-22bd3540-2dc2-4569-a0a3-b5afe8eadfad');\n",
              "          const dataTable =\n",
              "            await google.colab.kernel.invokeFunction('convertToInteractive',\n",
              "                                                     [key], {});\n",
              "          if (!dataTable) return;\n",
              "\n",
              "          const docLinkHtml = 'Like what you see? Visit the ' +\n",
              "            '<a target=\"_blank\" href=https://colab.research.google.com/notebooks/data_table.ipynb>data table notebook</a>'\n",
              "            + ' to learn more about interactive tables.';\n",
              "          element.innerHTML = '';\n",
              "          dataTable['output_type'] = 'display_data';\n",
              "          await google.colab.output.renderOutput(dataTable, element);\n",
              "          const docLink = document.createElement('div');\n",
              "          docLink.innerHTML = docLinkHtml;\n",
              "          element.appendChild(docLink);\n",
              "        }\n",
              "      </script>\n",
              "    </div>\n",
              "  </div>\n",
              "  "
            ]
          },
          "metadata": {},
          "execution_count": 20
        }
      ]
    },
    {
      "cell_type": "markdown",
      "source": [
        "STEP #4: Display the logit plot that is similar to 2.28 and Figure 2.29 in the lecture note."
      ],
      "metadata": {
        "id": "Yd3CAIIVjgFd"
      }
    },
    {
      "cell_type": "code",
      "source": [
        "#2.4\n",
        "\n",
        "\n"
      ],
      "metadata": {
        "id": "H3hVHP6qj0k5"
      },
      "execution_count": null,
      "outputs": []
    },
    {
      "cell_type": "code",
      "source": [
        "plt.plot(combined_avg_logit_df)\n",
        "plt.scatter(combined_avg_logit_df['logit'], combined_avg_logit_df['AvgSalePrice'])\n",
        "\n",
        "plt.show()\n"
      ],
      "metadata": {
        "id": "zmsdZFLhtv-Q",
        "colab": {
          "base_uri": "https://localhost:8080/",
          "height": 265
        },
        "outputId": "84a4a64a-c738-4498-c791-0ff3c37ec0cc"
      },
      "execution_count": null,
      "outputs": [
        {
          "output_type": "display_data",
          "data": {
            "text/plain": [
              "<Figure size 432x288 with 1 Axes>"
            ],
            "image/png": "[encoded data removed]"
          },
          "metadata": {
            "needs_background": "light"
          }
        }
      ]
    },
    {
      "cell_type": "code",
      "source": [
        "#brendan\n",
        "\n",
        "plt.plot(combined_avg_logit_df)\n",
        "plt.scatter(combined_avg_logit_df['logit'], combined_avg_logit_df['AvgSalePrice'])\n",
        "plt.xlabel(\"logit\")\n",
        "plt.ylabel(\"AvgSalePrice\")\n",
        "plt.show()\n"
      ],
      "metadata": {
        "id": "QaAfGdq7dI1H",
        "colab": {
          "base_uri": "https://localhost:8080/",
          "height": 279
        },
        "outputId": "8419c090-b03d-4c8c-f302-87fe3580b46f"
      },
      "execution_count": null,
      "outputs": [
        {
          "output_type": "display_data",
          "data": {
            "text/plain": [
              "<Figure size 432x288 with 1 Axes>"
            ],
            "image/png": "[encoded data removed]"
          },
          "metadata": {
            "needs_background": "light"
          }
        }
      ]
    },
    {
      "cell_type": "code",
      "source": [],
      "metadata": {
        "id": "2KwQnwDjdM8v"
      },
      "execution_count": null,
      "outputs": []
    }
  ]
}