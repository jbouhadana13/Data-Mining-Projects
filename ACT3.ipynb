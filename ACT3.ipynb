{
  "nbformat": 4,
  "nbformat_minor": 0,
  "metadata": {
    "colab": {
      "provenance": [],
      "include_colab_link": true
    },
    "kernelspec": {
      "name": "python3",
      "display_name": "Python 3"
    },
    "language_info": {
      "name": "python"
    }
  },
  "cells": [
    {
      "cell_type": "markdown",
      "metadata": {
        "id": "view-in-github",
        "colab_type": "text"
      },
      "source": [
        "<a href=\"https://colab.research.google.com/github/jbouhadana13/Data-Mining-Projects/blob/main/ACT3.ipynb\" target=\"_parent\"><img src=\"https://colab.research.google.com/assets/colab-badge.svg\" alt=\"Open In Colab\"/></a>"
      ]
    },
    {
      "cell_type": "code",
      "source": [
        "#import necessary libraries\n",
        "\n",
        "import pandas as pd\n",
        "from pandas import read_csv\n",
        "import sklearn\n",
        "from sklearn.metrics import classification_report\n",
        "from sklearn.metrics import confusion_matrix\n",
        "from sklearn.metrics import accuracy_score\n",
        "from sklearn.metrics import precision_score\n",
        "from sklearn.linear_model import LogisticRegression\n",
        "from sklearn.model_selection import train_test_split\n",
        "from sklearn.datasets import make_classification\n",
        "from sklearn.tree import DecisionTreeClassifier\n",
        "from sklearn.model_selection import KFold\n",
        "from sklearn.model_selection import cross_val_score\n",
        "import numpy as np\n",
        "import statsmodels.api as sm\n",
        "import matplotlib.pyplot as plt\n",
        "import seaborn as sns\n"
      ],
      "metadata": {
        "id": "t666ojnrn6fy"
      },
      "execution_count": null,
      "outputs": []
    },
    {
      "cell_type": "markdown",
      "source": [
        "**Data Used**: “Microsoft_Results.CSV” with three variables:\n",
        "\n",
        "\n",
        "1.   MACHINEID\n",
        "2.   True_Target (observed value)\n",
        "3.   PRED_Probability (Model Predicted Probability)\n",
        "  "
      ],
      "metadata": {
        "id": "6_W4iKwHjLl-"
      }
    },
    {
      "cell_type": "markdown",
      "source": [
        "Problem 1 (0 Points): Read the CSV file “Microsoft_Results.CSV”"
      ],
      "metadata": {
        "id": "_jxdd7Olj0an"
      }
    },
    {
      "cell_type": "code",
      "source": [
        "# 1 read XLSX file “Microsoft_Results.CSV”\n",
        "\n",
        "filename = 'Microsoft_Results.csv'\n",
        "data = pd.read_csv(filename)\n",
        "data.head()"
      ],
      "metadata": {
        "id": "_gsJ3HYFn_HG"
      },
      "execution_count": null,
      "outputs": []
    },
    {
      "cell_type": "markdown",
      "source": [
        "Problem 2 ( 10 Points): Write a program (or function) to calculate the following statistics:\n",
        "\n",
        "1. True Positive\n",
        "2. False Positve\n",
        "3. True Negative\n",
        "4. False Negative\n",
        "5. Sensitivity\n",
        "6. Specificity\n",
        "7. Accuracy\n",
        "8. Precision\n",
        "\n",
        "**for ANY given cut-off probabality (i.e. P_HasDetect).**\n",
        "\n",
        "The following are the input variable (4 total):\n",
        "\n",
        "1. MACHINEID\n",
        "2. True_Status\n",
        "3. PRED_Probability\n",
        "4. Rank\n",
        "\n",
        "The following are the output variables (9 total):\n",
        "\n",
        "1.  Cut off Probability\n",
        "2. True Positive\n",
        "3. False Positive\n",
        "4. True Negative\n",
        "5. False Negative\n",
        "6. Sensitivity\n",
        "7. Specificity\n",
        "8. Accuracy\n",
        "9. Precision\n",
        "\n",
        "The input of your program (or function) has one input data file name and the\n",
        "cut-off probability.  The output of your program is a output file with all desired statistics."
      ],
      "metadata": {
        "id": "OxW9H-eUj8mB"
      }
    },
    {
      "cell_type": "code",
      "source": [
        "\n",
        "# Define Y_True and Y_pred\n",
        "\n",
        "y_true = data['TRUE_STATUS']\n",
        "\n",
        "y_pred = data['PRED_Probability'].round()\n",
        "\n",
        "# confusion matrix (HOLY SHIT I think this is the one. For part of it at least.)\n",
        "matrix = confusion_matrix(y_true, y_pred, labels=[1,0])\n",
        "print('Confusion matrix : \\n',matrix)\n",
        "\n",
        "# outcome values order in sklearn\n",
        "tp, fn, fp, tn = confusion_matrix(y_true, y_pred,labels=[1,0]).reshape(-1)\n",
        "print('Outcome values : \\n', tp, fn, fp, tn)\n",
        "\n",
        "print(f'Outcome values : \\n True Positive: {tp}, \\n False Negative {fn}, \\n False Positive: {fp}, \\n True Negative: {tn}')\n",
        "\n",
        "# classification report for precision, recall f1-score and accuracy\n",
        "matrix = classification_report(y_true, y_pred,labels=[1,0])\n",
        "print('Classification report : \\n',matrix)\n",
        "\n",
        "#Specificity Calc\n",
        "\n",
        "specificity = tn/(tn+fp)\n",
        "print('Specificity Score:',specificity)\n",
        "\n",
        "#sensitivity calculation\n",
        "sensitivity = tp/(tp+fn)\n",
        "print('Sensitivity : ', sensitivity )\n",
        "\n"
      ],
      "metadata": {
        "id": "OY0qQT7LqDn7"
      },
      "execution_count": null,
      "outputs": []
    },
    {
      "cell_type": "code",
      "source": [],
      "metadata": {
        "id": "oZCyx-rurznL"
      },
      "execution_count": null,
      "outputs": []
    },
    {
      "cell_type": "markdown",
      "source": [
        "Problem 3 (10 Points)\n",
        "\n",
        "1. Use cut-off probability 0.3 and the function in Problem 2 to produce desired output.  \n",
        "\n",
        "Present your output.\n",
        "\n",
        "\n",
        "2. Use cut-off probability 0.6 and the function in Problem 2 to produce desired output.  \n",
        "\n",
        "Present your output."
      ],
      "metadata": {
        "id": "otW8_8uIlwPD"
      }
    },
    {
      "cell_type": "code",
      "source": [
        "# 3.1 cut-off probability threshold of 0.3\n",
        "\n",
        "\n",
        "threshold = .3\n",
        "\n",
        "threshold1_data = data[data['PRED_Probability'] > threshold]\n",
        "\n",
        "# Define Y_True and Y_pred\n",
        "\n",
        "y_true = threshold1_data['TRUE_STATUS']\n",
        "\n",
        "y_pred = threshold1_data['PRED_Probability'].round()\n",
        "\n",
        "# confusion matrix (HOLY SHIT I think this is the one. For part of it at least.)\n",
        "matrix = confusion_matrix(y_true, y_pred, labels=[1,0])\n",
        "report = classification_report(y_true, y_pred, labels=[1,0])\n",
        "\n",
        "print(f'Confusion Matrix: \\n {matrix}')\n",
        "print(f'\\n Classification Report: \\n {report}')\n",
        "\n",
        "\n",
        "\n",
        "# outcome values order in sklearn\n",
        "tn, fp, fn, tp = confusion_matrix(y_true, y_pred).reshape(-1)\n",
        "# print('Outcome values : \\n', tp, fn, fp, tn)\n",
        "\n",
        "print(f'\\n Outcome values : \\n\\n True Positive: {tp}, \\n False Negative {fn}, \\n False Positive: {fp}, \\n True Negative: {tn}')\n",
        "\n",
        "#Specificity Calc\n",
        "\n",
        "specificity = tn/(tn+fp)\n",
        "print('\\n Specificity Score:',specificity)\n",
        "\n",
        "#sensitivity calculation\n",
        "sensitivity = tp/(tp+fn)\n",
        "print('\\n Sensitivity : ', sensitivity )"
      ],
      "metadata": {
        "id": "smo-HEH51Kcw"
      },
      "execution_count": null,
      "outputs": []
    },
    {
      "cell_type": "code",
      "source": [
        "# 3.2 cut-off probability threshold of 0.6\n",
        "\n",
        "\n",
        "threshold = .6\n",
        "\n",
        "threshold2_data = data[data['PRED_Probability'] > threshold]\n",
        "\n",
        "# Define Y_True and Y_pred\n",
        "\n",
        "y_true = threshold2_data['TRUE_STATUS']\n",
        "\n",
        "y_pred = threshold2_data['PRED_Probability'].round()\n",
        "\n",
        "# confusion matrix\n",
        "matrix = confusion_matrix(y_true, y_pred, labels=[1,0])\n",
        "report = classification_report(y_true, y_pred, labels=[1,0])\n",
        "\n",
        "print(f'Confusion Matrix: \\n {matrix}')\n",
        "print(f'\\n Classification Report: \\n {report}')\n",
        "\n",
        "\n",
        "\n",
        "# outcome values order in sklearn\n",
        "tn, fp, fn, tp = confusion_matrix(y_true, y_pred).reshape(-1)\n",
        "# print('Outcome values : \\n', tp, fn, fp, tn)\n",
        "\n",
        "print(f'\\n Outcome values : \\n\\n True Positive: {tp}, \\n False Negative {fn}, \\n False Positive: {fp}, \\n True Negative: {tn}')\n",
        "\n",
        "#Specificity Calc\n",
        "\n",
        "specificity = tn/(tn+fp)\n",
        "print('\\n Specificity Score:',specificity)\n",
        "\n",
        "#sensitivity calculation\n",
        "sensitivity = tp/(tp+fn)\n",
        "print('\\n Sensitivity : ', sensitivity )"
      ],
      "metadata": {
        "id": "LomS2ZQ9T84T"
      },
      "execution_count": null,
      "outputs": []
    },
    {
      "cell_type": "code",
      "source": [
        "\n"
      ],
      "metadata": {
        "id": "ZeK-3SUwQQlA"
      },
      "execution_count": null,
      "outputs": []
    },
    {
      "cell_type": "markdown",
      "source": [
        "Problem 4 (10 points):\n",
        "\n",
        "\n",
        "*   Write a program to calculate two more statistics AUC and Gini of the model in addition the statistics calculated in Problem 2.  The input of this program has one extra\n",
        "\n",
        "*   input data set that has a variable “cut-off probability”.\n",
        "\n",
        "\n",
        "\n",
        "\n"
      ],
      "metadata": {
        "id": "V3f92FX5mDH1"
      }
    },
    {
      "cell_type": "code",
      "source": [
        "#problem 4 AUC\n",
        "\n",
        "array = data.values\n",
        "X = array[:,2:]\n",
        "Y = array[:,1]\n",
        "\n",
        "test_size = .33\n",
        "\n",
        "seed = 7\n",
        "\n",
        "kfold = KFold(n_splits=10, random_state = seed, shuffle=True)\n",
        "model = LogisticRegression(solver = 'liblinear')\n",
        "scoring = 'roc_auc'\n",
        "results = cross_val_score(model, X, Y, cv = kfold, scoring = scoring)\n",
        "print(\"AUC: %.3f\" % (results.mean()))\n",
        "\n",
        "\n",
        "\n",
        "#pring gini index\n",
        "\n",
        "gini_index = 2 * (results.mean() - .5)\n",
        "print(\"Gini Index: %.3f\" % (gini_index))"
      ],
      "metadata": {
        "id": "iB2gU2obVRrh"
      },
      "execution_count": null,
      "outputs": []
    },
    {
      "cell_type": "markdown",
      "source": [
        "Problem 5: ( 10 Points)\n",
        "\n",
        "*   Write a program to produce the ROC curve of this model for each point\n",
        "on this curve being calculated at ten-percentile level\n",
        "\n",
        "\n",
        "*   (i.e., to calculate the (Sensitivity, 1-specificity) pair at cut-off probability of every ten percent)."
      ],
      "metadata": {
        "id": "dX7dvsYwmZZ3"
      }
    },
    {
      "cell_type": "code",
      "source": [
        "model = LogisticRegression()\n",
        "model.fit(X, Y)\n",
        "\n",
        "y_true = data['TRUE_STATUS']\n",
        "\n",
        "y_pred = data['PRED_Probability'].round()\n",
        "\n",
        "# get probabilities for positive class\n",
        "probs = model.predict_proba(X)[:, 1]\n",
        "cutoffs = np.arange(0, 1.1, 0.1)\n",
        "\n",
        "#Calculate rates for each cutoff\n",
        "tprs = []\n",
        "fprs = []\n",
        "for cutoff in cutoffs:\n",
        "    y_pred = (probs >= cutoff).astype(int)\n",
        "    matrix = confusion_matrix(y_true, y_pred, labels=[1,0])\n",
        "    tp, fn, fp, tn = matrix.ravel()\n",
        "    tpr = tp / (tp + fn)\n",
        "    fpr = fp / (fp + tn)\n",
        "    tprs.append(tpr)\n",
        "    fprs.append(fpr)\n",
        "\n",
        "#Plot curve\n",
        "plt.plot(fprs, tprs, 'b-', label='ROC curve')\n",
        "plt.plot([0, 1], [0, 1], 'k--', label='Classifier')\n",
        "plt.xlim([0, 1])\n",
        "plt.ylim([0, 1])\n",
        "plt.xlabel('1 - Specificity')\n",
        "plt.ylabel('Sensitivity')\n",
        "plt.title('ROC Curve')\n",
        "plt.legend()\n",
        "plt.show()"
      ],
      "metadata": {
        "id": "oQilFVm_JIwH"
      },
      "execution_count": null,
      "outputs": []
    }
  ]
}