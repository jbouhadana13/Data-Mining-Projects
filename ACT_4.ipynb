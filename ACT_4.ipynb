{
  "nbformat": 4,
  "nbformat_minor": 0,
  "metadata": {
    "colab": {
      "provenance": [],
      "include_colab_link": true
    },
    "kernelspec": {
      "name": "python3",
      "display_name": "Python 3"
    },
    "language_info": {
      "name": "python"
    }
  },
  "cells": [
    {
      "cell_type": "markdown",
      "metadata": {
        "id": "view-in-github",
        "colab_type": "text"
      },
      "source": [
        "<a href=\"https://colab.research.google.com/github/jbouhadana13/Data-Mining-Projects/blob/main/ACT_4.ipynb\" target=\"_parent\"><img src=\"https://colab.research.google.com/assets/colab-badge.svg\" alt=\"Open In Colab\"/></a>"
      ]
    },
    {
      "cell_type": "markdown",
      "source": [
        "Probelm 2: Use the software of your team choice to calculate the following quantilea and complete the table\n",
        "below:\n",
        "\n",
        "1. Normal Quantile at probability 0.025 and 0.975\n",
        "\n",
        "2. Student t quantile at probability 0.005 (with degrees of freedom 333) and 0.995 (with\n",
        "degrees of freedom 345)\n",
        "\n",
        "3. Student t quantile at probability 0.025 (with degrees of freedom 10) and 0.975 (with\n",
        "degrees of freedom 5)\n",
        "\n",
        "4. Chi-square quantile at probability 0.05 (with degrees of freedom 125) and 0.95 (with\n",
        "degrees of freedom 245)\n",
        "\n",
        "5. F quantile at probability 0.01 (with degrees of freedom 12 and 250) and 0.99 (with\n",
        "degrees of freedom 24 and 500)\n",
        "\n",
        "\n",
        "![table.png](data:image/png;base64,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)"
      ],
      "metadata": {
        "id": "Q6oN7RebGWlZ"
      }
    },
    {
      "cell_type": "code",
      "source": [
        "#2.1\n",
        "\n",
        "from scipy.stats import norm\n",
        "\n",
        "# Find the quantile for a probability\n",
        "quantile_two_point_five = norm.ppf(0.025)\n",
        "quantile_ninety_seven_five = norm.ppf(0.975)\n",
        "\n",
        "\n",
        "#print the quantiles\n",
        "print(f'The quantile at normal distribution with a probability of 0.025 is: {quantile_two_point_five}')\n",
        "print(f'The quantile at normal distribution with a probability of 0.975 is: {quantile_ninety_seven_five}')"
      ],
      "metadata": {
        "id": "pnUweKAIrvMX"
      },
      "execution_count": null,
      "outputs": []
    },
    {
      "cell_type": "code",
      "source": [
        "#2.2\n",
        "from scipy.stats import t\n",
        "\n",
        "# Find the quantile for a probability\n",
        "quantile_t_1 = t.ppf(0.005, df = 333)\n",
        "quantile_t_2 = t.ppf(0.995, df = 345)\n",
        "\n",
        "\n",
        "#print the quantiles\n",
        "print(f'The quantile at t-distribution with a probability of 0.005 and degrees freedom of 333 is: {quantile_t_1}')\n",
        "print(f'The quantile at t-distribution with a probability of 0.995 and degrees freedom of 345 is: {quantile_t_2}')"
      ],
      "metadata": {
        "id": "KXNXh6hAsmxr"
      },
      "execution_count": null,
      "outputs": []
    },
    {
      "cell_type": "code",
      "source": [
        "#2.3\n",
        "\n",
        "from scipy.stats import t\n",
        "\n",
        "#find the quantile for a probability\n",
        "quantile_t_3 = t.ppf(0.025, df = 10)\n",
        "quantile_t_4 = t.ppf(0.975, df = 5)\n",
        "\n",
        "\n",
        "#print the quantiles\n",
        "print(f'The quantile at t-distribution with a probability of 0.025 and degrees freedom of 10 is: {quantile_t_3}')\n",
        "print(f'The quantile at t-distribution with a probability of 0.975 and degrees freedom of 5 is: {quantile_t_4}')"
      ],
      "metadata": {
        "id": "XPtHWFkjs_Xu"
      },
      "execution_count": null,
      "outputs": []
    },
    {
      "cell_type": "code",
      "source": [
        "#2.4\n",
        "from scipy.stats import chi2\n",
        "\n",
        "# Create a chi-squared distribution\n",
        "dist_1 = chi2(df=125)\n",
        "dist_2 = chi2(df=245)\n",
        "\n",
        "# Find the quantile of the distribution\n",
        "quantile_chi2_1 = dist_1.ppf(0.05)\n",
        "quantile_chi2_2 = dist_2.ppf(0.95)\n",
        "\n",
        "#print quantiles for Chi2\n",
        "print(f'The quantile at chi2-distribution with a probability of 0.05 and degrees freedom of 125 is: {quantile_chi2_1}')\n",
        "print(f'The quantile at chi2-distribution with a probability of 0.95 and degrees freedom of 245 is: {quantile_chi2_2}')"
      ],
      "metadata": {
        "id": "t1N3_uWV9Bjg"
      },
      "execution_count": null,
      "outputs": []
    },
    {
      "cell_type": "code",
      "source": [
        "#2.5\n",
        "\n",
        "from scipy.stats import f\n",
        "\n",
        "# create a f-distribution\n",
        "dist_f_1 = f(12, 250)\n",
        "dist_f_2 = f(24, 500)\n",
        "\n",
        "#find the f-distribution quantiles\n",
        "quantile_f_1 = dist_f_1.ppf(0.01)\n",
        "quantile_f_2 = dist_f_2.ppf(0.99)\n",
        "\n",
        "#print the f-distribution quantiles\n",
        "print(f'The quantile at f-distribution with a probability of 0.01 and degrees freedom of 12 and 250 is: {quantile_f_1}')\n",
        "print(f'The quantile at f-distribution with a probability of 0.99 and degrees freedom of 24 and 500 is: {quantile_f_2}')\n"
      ],
      "metadata": {
        "id": "gKQZfIOdutc4"
      },
      "execution_count": null,
      "outputs": []
    },
    {
      "cell_type": "markdown",
      "source": [
        "Note a:\n",
        "1. The normal quantile for probability 0.15866 is -1 as shown in Figure 1 since 𝑷\n",
        "(𝑿≤―𝟏) = 𝟎.𝟏𝟓𝟖𝟔𝟔.  The normal quantile for a given probability “p” is “a” if  𝑷\n",
        "(𝑿≤𝒂) = 𝒑, where X is a standard normal random variable.\n",
        "\n",
        "\n",
        "2. The quantile of a chi-square random variable at b is 0.048 if 𝑷(𝑿≤𝒃) = 𝟎.𝟎𝟒𝟖 if S\n",
        "is chi-square random variable\n",
        "\n",
        "![figure 1.png](data:image/png;base64,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)"
      ],
      "metadata": {
        "id": "ByMj4sGfGrcd"
      }
    },
    {
      "cell_type": "code",
      "execution_count": null,
      "metadata": {
        "id": "BEWbifIdGDLw"
      },
      "outputs": [],
      "source": []
    },
    {
      "cell_type": "markdown",
      "source": [
        "Problem 3 (20 Points) The data set used in this activity is “ACT_04_Data.xlsx”.  This data set\n",
        "has the following variables:\n",
        "\n",
        "1. ID: Identifier\n",
        "2. SalePrice: Housing price is a numerical target\n",
        "3. MSZONING: Zoning is a categorical predictor.\n",
        "4. FireplaceQu: Fire place quality is a categorical predictor\n",
        "5. GAR: Garage area is a numerical predictor\n",
        "6. BATH: Number of bath room is a numerical predictor\n",
        "7. AGE: The “age” of the house when it was sold\n",
        "8. TSF: Total square footage\n",
        "\n",
        "This assignment is as follows:\n",
        "1. Read the data into your software system\n",
        "2. Produce a scatter plot of SalePrice and TSF.\n",
        "3. Produce a scatter plot of SalePrice and Age.\n",
        "4. Split data into two subsets – a training set and a validation set.  The training set has\n",
        "approximately 80% of the data.\n",
        "5. Build the first multiple regression model with four numerical predictors TSF, Age,\n",
        "BATH, and GAR (Model I).\n",
        "6. Build the second multiple regression model with four numerical predictors and two\n",
        "categorical predictors (Model II)\n"
      ],
      "metadata": {
        "id": "jsHVzE8KHTx5"
      }
    },
    {
      "cell_type": "code",
      "source": [
        "import pandas as pd\n",
        "\n",
        "#3.1: Read the data into your software system\n",
        "\n",
        "filename = \"ACT_04_Data.csv\"\n",
        "\n",
        "data = pd.read_excel(\"ACT_04_Data.xlsx\")\n",
        "data"
      ],
      "metadata": {
        "id": "crq3nbJzHWJq"
      },
      "execution_count": null,
      "outputs": []
    },
    {
      "cell_type": "code",
      "source": [
        "import matplotlib.pyplot as plt\n",
        "\n",
        "#3.2 Produce a scatter plot of SalePrice and TSF.\n",
        "\n",
        "plt.scatter(data[\"TSF\"], data[\"SalePrice\"])\n",
        "plt.xlabel(\"TSF\")\n",
        "plt.ylabel(\"SalePrice\")\n",
        "plt.show()"
      ],
      "metadata": {
        "id": "A2ETwlqJ1mEm"
      },
      "execution_count": null,
      "outputs": []
    },
    {
      "cell_type": "code",
      "source": [
        "#3.3 Produce a scatter plot of SalePrice and Age.\n",
        "\n",
        "plt.scatter(data[\"Age\"], data[\"SalePrice\"])\n",
        "plt.xlabel(\"Age\")\n",
        "plt.ylabel(\"SalePrice\")\n",
        "plt.show()"
      ],
      "metadata": {
        "id": "6-7ziWzX16yQ"
      },
      "execution_count": null,
      "outputs": []
    },
    {
      "cell_type": "code",
      "source": [
        "from sklearn.model_selection import train_test_split\n",
        "\n",
        "\n",
        "#3.4 Split data into two subsets – a training set and a validation set. The training set has approximately 80% of the data.\n",
        "\n",
        "x = data[['TSF', 'Age', 'BATH', 'GAR']]\n",
        "y = data['SalePrice']\n",
        "\n",
        "x_train, x_test, y_train, y_test = train_test_split(x, y, test_size=0.2, random_state=1)\n",
        "\n",
        "\n"
      ],
      "metadata": {
        "id": "k3xHSHJC2X2v"
      },
      "execution_count": null,
      "outputs": []
    },
    {
      "cell_type": "code",
      "source": [
        "from sklearn.linear_model import LinearRegression\n",
        "\n",
        "#3.5 Build the first multiple regression model with four numerical predictors TSF, Age, BATH, and GAR (Model I).\n",
        "\n",
        "model_I = LinearRegression()\n",
        "model_I.fit(x_train, y_train)\n",
        "\n",
        "y_pred = model_I.predict(x_test)\n",
        "\n",
        "print(\"Prediction for test set: {}\".format(y_pred))"
      ],
      "metadata": {
        "id": "1dOhGvSo3XzL"
      },
      "execution_count": null,
      "outputs": []
    },
    {
      "cell_type": "code",
      "source": [
        "model_I_diff = pd.DataFrame({'Actual value': y_test, 'Predicted value': y_pred})\n",
        "model_I_diff.head()"
      ],
      "metadata": {
        "id": "WJCXDqz3ASmL"
      },
      "execution_count": null,
      "outputs": []
    },
    {
      "cell_type": "code",
      "source": [
        "from sklearn.metrics import mean_absolute_error\n",
        "from sklearn . metrics import mean_squared_error\n",
        "from sklearn . metrics import r2_score\n",
        "import numpy as np\n",
        "\n",
        "\n",
        "def adj_r_squared(y_test, y_pred, p=4):\n",
        "    n = len(y_test)\n",
        "    r2 = r2_score(y_test, y_pred)\n",
        "    adj_r2 = 1 - ((1 - r2) * (n - 1) / (n - p - 1))\n",
        "    return adj_r2\n",
        "\n",
        "# calculate the mean squared error and coefficient of determination R2\n",
        "mse = mean_squared_error(y_test, y_pred)\n",
        "r2 = r2_score(y_test, y_pred)\n",
        "adj_r2 = adj_r_squared(y_test, y_pred)\n",
        "sse = mse * (len(y_test) - 1)\n",
        "ase = sse/len(y_test)\n",
        "print(\"MSE for Model I:\", mse)\n",
        "print(\"ASE for Model I:\", ase)\n",
        "print(\"R-squared value for Model I:\", r2)\n",
        "print(\"Adjusted R-squared value for Model I:\", adj_r2, \"\\n\")\n",
        "\n",
        "\n",
        "# MAE, and RMSE not necessary; u can delete those"
      ],
      "metadata": {
        "id": "hgkfVlNQBf-L"
      },
      "execution_count": null,
      "outputs": []
    },
    {
      "cell_type": "code",
      "source": [
        "#3.6 Model II\n",
        "\n",
        "import pandas as pd\n",
        "from sklearn.linear_model import LinearRegression\n",
        "from sklearn.metrics import mean_absolute_error, mean_squared_error, r2_score\n",
        "from sklearn.model_selection import train_test_split\n",
        "\n",
        "# load the data\n",
        "data = pd.read_excel('ACT_04_Data.xlsx')\n",
        "\n",
        "\n",
        "\n",
        "# split the data into training and validation sets\n",
        "x = data[['TSF', 'Age', 'BATH', 'GAR', 'MSZoning', 'FireplaceQu']]\n",
        "y = data['SalePrice']\n",
        "x_train, x_test, y_train, y_test = train_test_split(x, y, test_size=0.2, random_state=1)\n",
        "\n",
        "# convert categorical variables to numerical variables using one-hot encoding\n",
        "x_train_encoded = pd.get_dummies(x_train, columns=['MSZoning', 'FireplaceQu'])\n",
        "x_test_encoded = pd.get_dummies(x_test, columns=['MSZoning', 'FireplaceQu'], drop_first=True)\n",
        "\n",
        "# add missing columns to the validation set\n",
        "missing_cols = set(x_train_encoded.columns) - set(x_test_encoded.columns)\n",
        "for col in missing_cols:\n",
        "    x_test_encoded[col] = 0\n",
        "x_test_encoded = x_test_encoded[x_train_encoded.columns]\n",
        "\n",
        "def adj_r_squared(y_test, y_pred, p=6):\n",
        "    n = len(y_test)\n",
        "    r2 = r2_score(y_test, y_pred)\n",
        "    adj_r2 = 1 - ((1 - r2) * (n - 1) / (n - p - 1))\n",
        "    return adj_r2\n",
        "\n",
        "# fit the linear regression model\n",
        "model_II = LinearRegression()\n",
        "model_II.fit(x_train_encoded, y_train)\n",
        "\n",
        "# make predictions on the validation set\n",
        "y_pred = model_II.predict(x_test_encoded)\n",
        "\n",
        "#MSE, MAE, and RMSE not necessary; u can delete those\n",
        "mse = mean_squared_error(y_test, y_pred)\n",
        "r2 = r2_score(y_test, y_pred)\n",
        "adj_r2 = adj_r_squared(y_test, y_pred)\n",
        "sse = mse * (len(y_test) - 1)\n",
        "ase = sse/len(y_test)\n",
        "\n",
        "\n",
        "\n",
        "print(\"MSE for Model II:\", mse)\n",
        "print(\"ASE for Model II:\", ase)\n",
        "print(\"R-squared value for Model II:\", r2)\n",
        "print(\"Adjusted R-squared value for Model II:\", adj_r2, \"\\n\")\n",
        "print(\"Prediction for test set: \\n{}\".format(y_pred))"
      ],
      "metadata": {
        "id": "dx88SWO75kwK"
      },
      "execution_count": null,
      "outputs": []
    },
    {
      "cell_type": "markdown",
      "source": [
        "7. Build the third multiple regression model with all predictors using stepwise selection.\n",
        "(Model III)\n",
        "8. Build the last multiple regression model with all predictors using LASSO selection\n",
        "(Model IV)\n",
        "9. After completion of this activity, complete the following table.\n",
        "\n",
        "![part 3.png](data:image/png;base64,iVBORw0KGgoAAAANSUhEUgAAAbAAAAClCAYAAAA9Iqi2AAAAAXNSR0IArs4c6QAAAARnQU1BAACxjwv8YQUAAAAJcEhZcwAADsMAAA7DAcdvqGQAABZNSURBVHhe7d1daBxV/8Dx32oLrTUpSqVp0yIBvRD7QiNCs0EogSaIXmhCC00otNQXaC/EJgWhL2na5Cqld73wL6WCJIWnJAqPN0UIgpjtheai9fKBIG3aeGmiVrSa/zlnzuzOzs6+b5I9me9HxsmebHZmz5w5v3POnJkmlhQBAMAxT9k1AABOIYABAJxEAAMAOIkABgBwEgEMAOAkAhgAwEkEMACAkwhgAAAnEcAAAE4igAEAnEQAAwA4qebPQty1a5f88ssvkkgkbEp8+FkZx+++HMjPeOP4r336GG/dulV++uknm1KemgewhoYGuXv3rjz77LM2JT4OHz4sJ0+elAMHDtgUVGN0dNSsz5w5Y9aIl7feeksuXrwor7/+uk3BWvPbb7/Jnj17ZHFx0aaUp+YBrLGxUebm5kwgi5uuri7p7++Xzs5Om4JqDA0NmfXg4KBZI17a29tNIyaZTNoUrDU6cDU3N8vCwoJNKQ/XwAAATiKAAQCcFLMAlpKRREJ6bs7b1yW4MyKJRI+MP7CvgYrMy/jhEVUCl0/qckISh8fVljJMWqLIdpe9jKvzLrRfQC2sQgDzgoieWWSWogU79P7LFVYBD8alJ5GUc/ZlSfSJ3VbWXxShK7HAd8lZKqjgTOXj/72thO6MxzvgmmNdQoVcMO+KHStvKa0xpMvwKZGrZ6Uta5t2CZXp+Zs9Wb8fuWN/UYAOVMkL9kUZzLZqWsajtMnZ07OyrZLyXQmTx/m2FapPopZ8dZIpV6H3RtRH4eMXXko5ntmy99krcykZL6chvlbpSRy11NDQsLSwsGBfFZAa1pNH1NK9NHbfpkV4NN5t3ze8NG3TKje9NKw+q3v8kX1dArOfhffR19nZuXT79m37qoD7Y0vd4f1I50cZ3zNn3x4tjR0qnqeuuHjxolnKNX1J50GR41xq3kUdK0uXzeJlSZe53OPh7+NwyiaEmf0rr8ybzzw0pr5Jmcoo42nqb/Luez56O2XsXzKZXPr+++/tq1L5x7FA3mrmO+e+J1Pf5P977z3Fjo3dj6zv69U/RfctS26d5e9j8bJX/3Ss0DGjUqs3hLijRboPdUu3TErfjXztsnmZ+lKdWofUj4dapMVLdJ/67q32x7T9Z0UVTPXDOblSUstK9RCuqpbzpQHp3WGTpEl6/7MkqiKLL9VKvnJvWIZVmZnsvZ6nFV5G3kUdK6vpyIC0/m/Wvoo2f/OKnMvajqft+Jgq+yIzs/mPdff4CdV3qU+pbyrotakyPr27T04tZ8/hznXp262Ov/rx3NUCozu6/rE/BjUdmVCN+mnv79uqGVZtkpbd9sc01RO97x33gvsWYMqP2puBI002xe5jSu8hVvca2O4BGdAVxoUr0QXFFEb1npyCsDY1tXhV5WSRSjHLhamcSrrtYI/9KX7mv5sQefeEnHjXawxMFRquqSbv7ozIyB1VIZ0vFGJScr1XZOx4xHt29JqyP/nlVERFpgOsZFVadUV990qGKzUduCVvw6J6OrAOHzwrHbpeuTUhUxUFIHVcTYAo1LiukN8gujUrpZ/lEeV4f4fE9yzPWPVJHF5LNKqg6JN4Jvrkt0q5VhB8T76xZ+9Ct7+s0Dh9BL9VO3ywlHZ3k3TYSjoZ/m77e3Na/NnXe9R31OP5Zvw+cK0nPfYfGHPPuh4Qvn6QnVfpSQT+tYLA365MHuuA0Woqft07Mq3ob6K2VGbeRSipB3JnSm2hVVryfF7bQbWHt/rkerhcPpiSid0dOb2vcHkv5fpb+pjY157AMc9zLPJty6Tba2bn2rzfZfIvVD6irlebCrxIw6JSpvc9Jif2Z+qVie+K51EkFSBMHyeikVMVUyaUS7nHN0rTGz1ej03ndVZ+tklvTgMnO/9H7ujj7B3fzPHM9Coz52R2TzP7XA2dH6Ye0e/3y1Dgb0PXCMuaLFeh1Z+FaFuiOb0wfRKrNkZHnpNfZ/K2/w2YR5HoRQ+/6YMczDTzni975JF9T8c34Ukc3kGYOuj9Xi/Tl3SltlwVbH56X02r9tK0nFUnYCn0UII/5OVVJtFDHl6lIzJtv+PS/Ra5srNPnd5a1NCZaoEuPZIxPXSbpk+OpMyMP7KfoSsIlVeBIOi1ymfl+g2Ra7oFa1qZK5jHunJIVwxtXis8T+++1LzzTfZuS5+YeimlB2KCXKGh7/0nTB6Hh5N0L7I11IjRx3CbCs7+MdT7Ptl7qsA+B49JkD6O22TiXXsclzpkKjSJo9C2zPCVHQYbTnm/N+XVVF5T0mH/xgzDXUhGBDGVH/o7RzYsquP1vjtUiVZ2qB5KwWHkYrz9FJmR2QLloiy68jd5PSzTBXvuAap+nPCHC3V+5gsMJv+T6vD6+f9IWq5uk75b3q+jhh3bznv1ZpCph1QjwKszvTrgXFsgCNqyMnvjushVPdQ66eWP/m6n1XnvH39VRkSdM8sdxFY/gCmmJRrqhaVu9Enr6V6vMIbpltaF7qzeWdORayaz0wXWf8/VzGe0nffGttP0EKU6wH5LMlMxLVMLMSRYKSYvqEKtD3ypBdvShdAfszd5uFN9XqjXdL13UlU2ZzMtPntyV6K1xeZm1mcEguCtGWk5rvJ8/1m1X3rW3UrlsaqwQz12v1zla4UXz7uMbj9w2yU74EeZl9l7arW7JboMG7YnmDXU5fUiO6IaMYFg6H23QqKv6ZlrKofG5Fq69e4Pl4WUtS3vfJ3UDRp7jBP+jN+cHoy9NnRPN21qKdP79mR62StxLueletjb/DxRlb8X9APnYinMuZQ5ll69Eeo16fzPavz6378C6TKb/RmZIDgpMy+dkN4duqGrGzD63FNHO/hdbQM5eoi8duoigPkt0XRh18HHDgVE0S0tr/cQ5Ge212Ly3pN/+Eabn51RJ6rf2sheSu0FVSNdKZpCkedEyxr685bcoVCvIKUrY12Q/JavGbLoLpgPpfELq/rR7FOmdZflUHavecXy2ARKG4T8vLKtxcInUYG8K6CUSr0U3lBnoPGmjtdMxOQNU3n8RzfGvJ6V/93KoydFqTOnYFCtZFtesA4HeW8ps7KukDfZIRhAE6oX6dUSlfX2ZmXWlO/CdUhR6bLvla/ofQkPzaslogx6DS4/kOmy7o9ipGRKNQq7X6p+mpvZhmlEe/vk52G2bul5I1iCvLzye+RZiylHy6c+Apj6ir2nvUpcz8AzQyj5el+1VtbF1GViZyCWN+tJVS6Xw70FXRnbob9aj91rfjD9pkMVzvAQYwErkMfm4n3ECWSGSHKuM9Ug79Qxq00ADg516pbsTKhy8NlgYu4nU98tqtdUM5Vtq6zJRzXlzVYeu5997PViKvt8k8QKKfNaVXGqfOmh1wvJsobV5m+O5Ox7ZuhvOXqXfjD1hoPDQ4yFFJpRu1zqJIApthemu8d6/D1yCMXyZuvlGRqyPQDvPYUPsP+enOsxqqLO7eUsL28IVLWqTocqVjt8EFzSFee9qFlWtifqDwGZ6cJ2nLoaOni1zXiVRBnDnCuSxwV67OmL4OGWbyl5V4q836P0obL0RKbTp/Jc99UBRfV4d0+r4z9R0iSTaHafCgboSrblf27uNa/U5fC1zlKGVstkZytH7WuxYeRI+nqS6XVmX6bIUk4Z8e3olWsqIOReu/RHAQJL+hybidx3r1z7IytqX3TdWXUDInidu5yes91+zjUvVZZyGoq1tXoB7MGsKlZBfi9MD0VE3P8SbMWrSl23rHSGZSoPe63H77nZWUT+BUjNG2bw/s6caP7QpalgdavDLmrj2QG0BgEgSH33Gftjhr5mMS3DZhy51J6YHkYIvVedfKeC+WCvVRXr3bW8pCruwLWY+ZunvCFCvT/p60KBfNCTbPwhxDup/BViyXlcKXWSnC5wvTQ9SSgZCjQl5J0WeawsU9Hl/x6m8iyl9+lfT7ylzgh/EkKUQDDMzIKcl9SdQBURtb1Amlehq2ORDjQq//T1C5MfgeHpErZlWtwqD8bV3/j3tfkTDfwlKeEejNoXPdwUmqRSOVXp6oZVvkCTbhiHgkZO/eMxExXs9ZvhVCaAezPzMuWlu9BxMmygDtHDs9OXvLwutScWGRhUmZ9M319oG17Fene2MZsOiLa8h8+FTCC0Q86GOscjG2papu42dWv6+G+TiZeK5VOVVLSvqeJP4sjcje4vmbvS9d3rgTvc7d3yWcul9G/TTzPwlqgnCWRvq3t8LOeudm+bwc/JbF91nwPpxe+eL/4kjvC29BLa76zvXOhuf/VZl/Rd/rmfmbufUdtVSyAvw+/pHp/2XqefJBD6DJU+5uf/pf+GPj+83+HtF3uKgedi0SdxhMpSzlMeIr63eY9KL5p3EX8btWTlYZjevxKfcGGOe4F8CZ0Lw6osqypL/aw/Pyp/o9KsrM9Sfz+uXwf2s+C2vLekz71gntunlqT/NipvzHtKO/5Fn8RRdHu5dY1c+r/ctNAS9YSLYF0Q9fugcL2R+zfZ+1WoXnmkjo3O85zPjMjbqO2Gy1TWe9SxmzavM8c1+zP8suF9zn9Dn5+z36FyUyyftGqfxJHQ/1Mbqxn+PTAX/j2wwDBRmbMeV9Ja+PfAzJR0fbtHHefzStI9mSsvPZKJEm7S5t8Dq07mdoiVmUhTCf49MKCOmWub98LDlzH1QN/akv1YJKAaBDBgWXnXNqUt6vaHGNHXC3fOykAd9wbgHgJY7OiZRvYeLn3BPc+Nu6glb4p+y9XwjLy4UGXOPKWB4LVSzFOIzAQNPXmq8AQulxHAYic0ZXeZbzSET/fE4lqBqzJHOVtR/k3P3lLNrRf1jQAGAHBSzWch6tmHV69elQ0bNtiU+NAzpt58803ZtWuXTUE1vvrqK7N+5513zBrxMjIyIocPH5aXX37ZpmCt+fPPP+X06dNmNmIlliWAvf3227J+/XqbEh93796VLVu2yPbt220KqqHzU9uzZ49ZI1708d+2bZu88MILNgVrzd9//y1ff/11/QQw7gNz4T4wN6yF+8BQOe4DW/u4DwwAEEsEMACAkwhgAAAnrUIA08/hyzyt2lvieoMnAKBSqxDA9A2dS7Kk/3E39Wq4kn9iGwAQewwhAgCcRAADADiJAAYAcBIBDADgJAIYAMBJBDAAgJMIYAAAJxHAAABOIoABAJy0CgHMPkpqZ59Mqlfn2niUFACgfKsQwOyjpJaCC4+SAgCUhyFEAICTCGAAACcRwAAATiKAAQCcRAADADiJAAYAcFJiSc9jr6GGhgZpaWmRp59+2qbEx6+//ipPPfWUyQNUT+entnnzZrNGvOjjv27dOtm0aZNNwVrzzz//yOzsrCwuLtqU8ixLALt9+7Y888wzNiU+Tp48KUePHpW2Nu5qq4VPP/3UrD/88EOzRrwcO3ZMPv74Y9m7d69NwVrzxx9/SFdXV/0EsMbGRpmbm4tlL0QfiP7+funs7LQpqMbQ0JBZDw4OmjXipb29XUZHRyWZTNoUrDU6cDU3N8vCwoJNKQ/XwAAATiKAAQCcRAADADhpFQKYfRp9Irjop9HnSwcAINcqBDD7NPr7Y9KtXg2n/KfR50sHACAXQ4gAACcRwAAATiKAAQCcRAADADiJAAYAcBIBDADgJAIYAMBJBDAAgJMIYAAAJ61CALOPjNrZJ5Pq1bk2/5FR+dIBAMi1CgHMPjJqKbgEHiWVkw4AQC6GEAEATiKAAQCcRAADADiJAAYAcBIBDADgpMSSnu5XQw0NDXLz5k3ZuHGjTYmPTz75RA4dOiSvvfaaTUE1vvjiC7M+evSoWSNePvroI/nggw/k1VdftSlYax4/fixHjhyRxcVFm1KeZQlgugJft26dTYmPhw8fyoYNG+T555+3KaiGzk9t+/btZo140cd/06ZNsnnzZpuCtebJkyfy448/1k8Aa2xslLm5ORPI4qarq0v6+/uls7PTpqAaQ0NDZj04OGjWiJf29nYZHR2VZDJpU7DW6MDV3NwsCwsLNqU8XAMDADiJAAYAcBIBDADgpFUIYPahvYngEniYb8npAIA4W4UAZh/ae39MutWr4ZT/0N5y0wEAccYQIgDASQQwAICTCGAAACcRwAAATiKAAQCcRAADADiJAAYAcBIBDADgJAIYAMBJqxDA7KOhdvbJpHp1rs1/NFS56QCAOFuFAGYfDbUUXAKPjCo5HQAQZwwhAgCcRAADADiJAAYAcBIBDADgJAIYAMBJBDAAgJMSS3peeg01NDRIMpmUdevW2ZT4+Pnnn2XTpk2yZcsWm4Jq6PzUXnzxRbNGvOjj39jYKM8995xNwVrz5MkTmZ6elsXFRZtSnmUJYJ9//rls3LjRpsTH+fPnpbu7W/bt22dTUI3x8XGz7u3tNWvEy8DAgJw4cUJeeeUVm4K15vHjx3Ls2LH6CWC6xTQ3N2cCWdx0dXVJf3+/dHZ22hRUY2hoyKwHBwfNGvHS3t4uo6OjZkQHa5MOXM3NzbKwsGBTysM1MACAkwhgAAAnEcAAAE5ahQBmny6fCC766fIpGclK89MDHoxLT/D3l3kmPQDE1SoEMPt0+ftj0q1eDaf8p8u3yVn9pPnUsPe2S9O5T53f0SsTS9Oi32H+7jzPpAeAuKq/IcT9J2TskFrfm1V9tTwOjcmJ/fZnAEAs1eE1MNVDO636WLcmZOqBTQqYv3lF5HSvehcAIM7qcxLH/g4ZlknpuxG+xjUvU1+2Sge9LwCIvfoMYNImJ8a7RS5ckfFgL+zBlEzs7uBfYwYA1GsAE2l6o0e6VS9s4rvMlbDUjT5pPUj4AgDUcQDTMw4HLolM9l63U+lTMnWPyRsAAE/9BjCl7aCeMH9OrtycN5M3Zt7tYPIGAMCo6wDmT6mf7D0lp74U6XmD8AUA8NR3AFP9rY539e3Ok+q/HunY4aUCALAKAcw+SmpnnwpKIufaIh4ZFdB0ZMB78gb3fgEAAlYhgNlHSenHRqWX0COjsniPmDrL5A0AQECdDyECABCNAAYAcBIBDADgJAIYAMBJBDAAgJMSS3oaYA01NDTIt99+K5s2bbIp8fHee+/J8ePHpb293aagGteuXTPrU6dOmTXipbe3V86cOSP79u2zKVhrfv/9dzlw4IAsLi7alPIsSwDbvn27PPVU/Dp3+mBocQzey4H8jDd9/HU9snHjRpuCtebff/+Vhw8f1k8Aa2xslLm5ORPI4qarq0v6+/uls7PTpqAaQ0NDZj04OGjWiBc9kjE6OirJZNKmYK3Rgau5uVkWFhZsSnm4BgYAcBIBDADgJAIYAMBJBDAAgJMIYAAAJxHAAABOIoABAJxEAAMAOIkABgBwEgEMAOAkAhgAwEkEMACAkwhgAAAnEcAAAE4igAEAnEQAAwA4iQAGAHASAQwA4CQCGADASQQwAICTCGAAACcRwAAATkosKfbnmmhtbZW9e/fK+vXrbUp8/PDDD9LU1CQ7duywKajGzMyMWesyhfjR59POnTtl69atNgVrzV9//SV3795Nn+vlqnkA++yzz+xPAAAU9/7779ufylPzAAYAwErgGhgAwEkEMACAk0oLYA/GpSeRkJE79nUszMv44YQkLqfs6xKsUD6lLqv9SoxIGXtWU2b7h8dVDtWH5c6P1c7v/FIyospbwi5r5fysWfmy52PPzXopqagtkf8HZuwR+82y/QkAAAAASUVORK5CYII=)\n",
        "\n",
        "10. What is the best model using the criterion of your choice?\n",
        "11. Find the predicted value for each house in the table below:\n",
        "\n",
        "![part 4.png](data:image/png;base64,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)"
      ],
      "metadata": {
        "id": "4bz--5T7KH-j"
      }
    },
    {
      "cell_type": "markdown",
      "source": [
        "7. Build the third multiple regression model with all predictors using stepwise selection.\n",
        "(Model III)"
      ],
      "metadata": {
        "id": "lSu_cVHCsQfn"
      }
    },
    {
      "cell_type": "code",
      "source": [
        "#3.7 Model III\n",
        "\n",
        "from sklearn.feature_selection import RFE\n",
        "\n",
        "x = data[['TSF', 'Age', 'BATH', 'GAR']]\n",
        "y = data['SalePrice']\n",
        "\n",
        "#Build model III\n",
        "model_III = LinearRegression().fit(x, y)\n",
        "\n",
        "#Use RFE with stepwise selection to select best predictors\n",
        "selector = RFE(model_III, n_features_to_select=1, step=1)\n",
        "selector.fit(x, y)\n",
        "\n",
        "#Extract the selected predictors\n",
        "selected_predictors = x.columns[selector.support_]\n",
        "\n",
        "#Use predictors from stepwise to build new model\n",
        "final_model_III = LinearRegression().fit(x[selected_predictors], y)\n",
        "\n",
        "#use new model to predict the sale prices on testing set\n",
        "y_pred = final_model_III.predict(x_test[selected_predictors])\n",
        "\n",
        "#calculate MSE, ASE, R2, ADJR2\n",
        "mse = mean_squared_error(y_test, y_pred)\n",
        "r2 = r2_score(y_test, y_pred)\n",
        "adj_r2 = adj_r_squared(y_test, y_pred)\n",
        "sse = mse * (len(y_test) - 1)\n",
        "ase = sse/len(y_test)\n",
        "\n",
        "print(\"MSE for Model III:\", mse)\n",
        "print(\"ASE for Model III:\", ase)\n",
        "print(\"R-squared value for Model III:\", r2)\n",
        "print(\"Adjusted R-squared value for Model III:\", adj_r2, \"\\n\")\n",
        "print(\"Prediction for test set: \\n{}\".format(y_pred))"
      ],
      "metadata": {
        "id": "NINjwz5gscfE"
      },
      "execution_count": null,
      "outputs": []
    },
    {
      "cell_type": "markdown",
      "source": [
        "8. Build the last multiple regression model with all predictors using LASSO selection\n",
        "(Model IV)"
      ],
      "metadata": {
        "id": "fnR2kZE8sdAC"
      }
    },
    {
      "cell_type": "code",
      "source": [
        "#3.8 Model IV\n",
        "\n",
        "from sklearn.linear_model import Lasso\n",
        "from sklearn.model_selection import GridSearchCV\n",
        "\n",
        "\n",
        "x = data[['TSF', 'Age', 'BATH', 'GAR']]\n",
        "y = data['SalePrice']\n",
        "\n",
        "x_train, x_test, y_train, y_test = train_test_split(x, y, test_size=0.2, random_state=1)\n",
        "#Define range of alpha values\n",
        "alphas = [0.01, 0.1, 1, 10, 100]\n",
        "\n",
        "#Define lasso model\n",
        "lasso = Lasso(max_iter=10000)\n",
        "\n",
        "#Select best alpha value\n",
        "grid = GridSearchCV(estimator=lasso, param_grid=dict(alpha=alphas), cv=5)\n",
        "grid.fit(x, y)\n",
        "best_alpha = grid.best_estimator_.alpha\n",
        "\n",
        "#Build model IV with  best alpha value\n",
        "model_IV = Lasso(alpha=best_alpha, max_iter=10000).fit(x, y)\n",
        "\n",
        "#use new model to predict the sale prices on testing set\n",
        "y_pred = model_IV.predict(x_test)\n",
        "#y_pred = model_IV.predict(x_test[selected_predictors])\n",
        "\n",
        "#calculate MSE, ASE, R2, ADJR2\n",
        "mse = mean_squared_error(y_test, y_pred)\n",
        "sse = mse * (len(y_test) - 1)\n",
        "ase = sse/len(y_test)\n",
        "r2 = r2_score(y_test, y_pred)\n",
        "adj_r2 = adj_r_squared(y_test, y_pred)\n",
        "\n",
        "# Print the R-squared value\n",
        "print(\"MSE for Model IV:\", mse)\n",
        "print(\"ASE for Model IV:\", ase)\n",
        "print(\"R-squared value for Model IV:\", r2)\n",
        "print(\"Adjusted R-squared value for Model IV:\", adj_r2, \"\\n\")\n",
        "print(\"Prediction for test set: \\n{}\".format(y_pred))"
      ],
      "metadata": {
        "id": "0BiA3qKNsfaE"
      },
      "execution_count": null,
      "outputs": []
    },
    {
      "cell_type": "code",
      "source": [
        "#3.11\n",
        "model_II = LinearRegression()\n",
        "model_II.fit(x_train_encoded, y_train)\n",
        "\n",
        "#create list with all of predictor info\n",
        "houses = [\n",
        "    {'TSF': 3000, 'Age': 10, 'BATH': 2.5, 'GAR': 600, 'MSZoning': 'RL', 'FireplaceQu': 'Ex'},\n",
        "    {'TSF': 3000, 'Age': 10, 'BATH': 2.5, 'GAR': 600, 'MSZoning': 'RL', 'FireplaceQu': 'TA'},\n",
        "    {'TSF': 3000, 'Age': 10, 'BATH': 3, 'GAR': 600, 'MSZoning': 'RM', 'FireplaceQu': 'Ex'},\n",
        "    {'TSF': 3000, 'Age': 15, 'BATH': 3, 'GAR': 600, 'MSZoning': 'RM', 'FireplaceQu': 'TA'},\n",
        "    {'TSF': 3200, 'Age': 20, 'BATH': 4, 'GAR': 800, 'MSZoning': 'RM', 'FireplaceQu': 'Ex'}\n",
        "]\n",
        "\n",
        "#for loop to loop through the list of houses and predict SalePrice\n",
        "for i, house in enumerate(houses):\n",
        "    house_data = pd.DataFrame(house, index=[i])\n",
        "    house_data_encoded = pd.get_dummies(house_data, columns=['MSZoning', 'FireplaceQu'])\n",
        "    #add zeroes to any missing columns\n",
        "    missing_cols = set(x_train_encoded.columns) - set(house_data_encoded.columns)\n",
        "    for col in missing_cols:\n",
        "        house_data_encoded[col] = 0\n",
        "    house_data_encoded = house_data_encoded[x_train_encoded.columns]\n",
        "\n",
        "    #predict and print\n",
        "    prediction = model_II.predict(house_data_encoded)\n",
        "    print(\"Predicted SalePrice for House {}: {}\".format(i+1, prediction[0]))\n"
      ],
      "metadata": {
        "id": "_OsbXHHvjot4"
      },
      "execution_count": null,
      "outputs": []
    }
  ]
}