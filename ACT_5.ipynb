{
  "nbformat": 4,
  "nbformat_minor": 0,
  "metadata": {
    "colab": {
      "provenance": [],
      "include_colab_link": true
    },
    "kernelspec": {
      "name": "python3",
      "display_name": "Python 3"
    },
    "language_info": {
      "name": "python"
    }
  },
  "cells": [
    {
      "cell_type": "markdown",
      "metadata": {
        "id": "view-in-github",
        "colab_type": "text"
      },
      "source": [
        "<a href=\"https://colab.research.google.com/github/jbouhadana13/Data-Mining-Projects/blob/main/ACT_5.ipynb\" target=\"_parent\"><img src=\"https://colab.research.google.com/assets/colab-badge.svg\" alt=\"Open In Colab\"/></a>"
      ]
    },
    {
      "cell_type": "markdown",
      "source": [
        "Overview: The data set used in this activity is “HeartDisease.txt”. The data set used in this study is from\n",
        "South African Heart Disease Data (http://www-stat.stanford.edu/~tibs/ElemStatLearn/data.html),\n",
        "a subset `of the Coronary Risk-Factor Study (CORIS) of the Western Cape, South African. The\n",
        "aim of this study was to establish the intensity of ischemic heart disease risk factors in the high-\n",
        "incidence region. (Note: the target variable for this study is “chd”."
      ],
      "metadata": {
        "id": "X1S8xDqCNlR5"
      }
    },
    {
      "cell_type": "markdown",
      "source": [
        "Problem 1 Programming and Reporting (15 Points)\n",
        "\n",
        "PART I Programming (5 Points)\n",
        "\n",
        "1. Read the data into your software system"
      ],
      "metadata": {
        "id": "iEOJ6xKGNzeG"
      }
    },
    {
      "cell_type": "code",
      "execution_count": null,
      "metadata": {
        "id": "mCAcYZSGNd2n"
      },
      "outputs": [],
      "source": [
        "#importing libraries\n",
        "\n",
        "import pandas as pd\n",
        "import numpy as np\n",
        "from pandas import read_csv\n",
        "import matplotlib.pyplot as plt\n",
        "import seaborn as sns\n",
        "import numpy as np\n",
        "import scipy.stats as stats\n",
        "\n",
        "# Convert SAS to CSV file\n",
        "df = pd.read_sas('heartdisease.sas7bdat')\n",
        "\n",
        "# Save the DataFrame as a CSV file\n",
        "df.to_csv('heartdiseasee.csv', index=False)\n",
        "\n",
        "# read and load the csv data file\n",
        "filename = \"heartdiseasee.csv\"\n",
        "data = read_csv ( filename )\n",
        "\n",
        "data"
      ]
    },
    {
      "cell_type": "markdown",
      "source": [
        "2. Examine univariate statistics for the following variables:sbp, tobacco, ldl, adiposity, typea,obesity, alcohol, and age.  (not including the target variable)\n",
        "\n",
        "3. Produce histogram of each of the following variables with imposing normal curve:sbp,tobacco, ldl, adiposity, typea, obesity, alcohol, and age.\n",
        "\n",
        "4. Produce quantile plot of each of the following variables:sbp, tobacco, ldl, adiposity, typea,obesity, alcohol, and age"
      ],
      "metadata": {
        "id": "W2jLL8ubNiXT"
      }
    },
    {
      "cell_type": "code",
      "source": [
        "# 2 Examine univariate statistics (do we want to add the median and the mode?)\n",
        "\n",
        "# Specify the variables you want to examine\n",
        "variables = ['sbp', 'tobacco', 'ldl', 'adiposity', 'typea', 'obesity', 'alcohol', 'age']\n",
        "\n",
        "# Calculate basic univariate statistics for the selected variables\n",
        "stats = data[variables].describe()\n",
        "\n",
        "print(stats)\n",
        "\n"
      ],
      "metadata": {
        "id": "b0K95xbcO8bi"
      },
      "execution_count": null,
      "outputs": []
    },
    {
      "cell_type": "code",
      "source": [
        "# 3 Produce histogram of each of the following variables with imposing normal curve\n",
        "\n",
        "import scipy.stats as stats\n",
        "\n",
        "# Set the style for the seaborn plots\n",
        "sns.set(style='whitegrid')\n",
        "\n",
        "# Loop through the variables and create histograms with a normal curve\n",
        "for variable in variables:\n",
        "    plt.figure()\n",
        "    sns.histplot(data=data, x=variable, kde=True, stat='density', linewidth=0)\n",
        "\n",
        "    # Calculate the normal curve\n",
        "    mu, std = data[variable].mean(), data[variable].std()\n",
        "    x_values = np.linspace(data[variable].min(), data[variable].max(), 100)\n",
        "    y_values = stats.norm.pdf(x_values, mu, std)\n",
        "\n",
        "\n",
        "    plt.plot(x_values, y_values, color='r', linestyle='--')\n",
        "    plt.title(f'Histogram of {variable} with Normal Curve')\n",
        "    plt.xlabel(variable)\n",
        "    plt.ylabel('Density')\n",
        "\n",
        "plt.show()"
      ],
      "metadata": {
        "id": "zHbAxD99lulA"
      },
      "execution_count": null,
      "outputs": []
    },
    {
      "cell_type": "code",
      "source": [
        "# 4 Produce quantile plot of all the variables\n",
        "\n",
        "# Set the style for the seaborn plots\n",
        "sns.set(style='whitegrid')\n",
        "\n",
        "# Loop through the variables and create Q-Q plots\n",
        "for variable in variables:\n",
        "    plt.figure()\n",
        "    stats.probplot(data[variable], dist='norm', plot=plt)\n",
        "    plt.title(f'Q-Q Plot of {variable}')\n",
        "    plt.xlabel('Theoretical Quantiles')\n",
        "    plt.ylabel(f'{variable} Quantiles')\n",
        "\n",
        "plt.show()"
      ],
      "metadata": {
        "id": "MUFLyLIunvv5"
      },
      "execution_count": null,
      "outputs": []
    },
    {
      "cell_type": "markdown",
      "source": [
        "5. Build a logistic regression model with all predictors.\n",
        "\n",
        "6. Perform power transformation on the following variables:sbp (power = -2), tobacco(power = 0.4), ldl (power = 0.1), obesity (power = -0.4), and alcohol (power = 0.4).\n",
        "\n"
      ],
      "metadata": {
        "id": "EyMTnNpIPGXF"
      }
    },
    {
      "cell_type": "code",
      "source": [
        "# 5 build a logic regression model with all of the predictors.\n",
        "\n",
        "from sklearn.linear_model import LogisticRegression\n",
        "from sklearn.model_selection import train_test_split\n",
        "from sklearn.metrics import classification_report, accuracy_score\n",
        "from sklearn.preprocessing import LabelEncoder\n",
        "\n",
        "# Preprocess the famhist column\n",
        "encoder = LabelEncoder()\n",
        "data['famhist'] = encoder.fit_transform(data['famhist'].astype(str))\n",
        "\n",
        "# Replace 'chd' with the name of your target variable column\n",
        "target_var = 'chd'\n",
        "\n",
        "# Separate the predictors (features) and the target variable\n",
        "X = data.drop(['names', target_var], axis=1)\n",
        "y = data[target_var]\n",
        "\n",
        "# Spliting the dataset (WHAT DO WE USE FOR RANDOM STATE? 42? 7? 5?)\n",
        "X_train, X_test, y_train, y_test = train_test_split(X, y, test_size=0.2, random_state=5)\n",
        "\n",
        "# Creating the logistic regression model (WE NEED TO FIGURE OUT HOW MAN ITERATIONS WE NEED. Sorry for all the caps)\n",
        "log_reg = LogisticRegression(max_iter=500)\n",
        "\n",
        "# Fiting the model\n",
        "log_reg.fit(X_train, y_train)\n",
        "\n",
        "y_pred = log_reg.predict(X_test)\n",
        "\n",
        "# Stats\n",
        "accuracy = accuracy_score(y_test, y_pred)\n",
        "report = classification_report(y_test, y_pred)\n",
        "\n",
        "print(f'Accuracy: {accuracy:.2f}')\n",
        "print('Classification Report:')\n",
        "print(report)"
      ],
      "metadata": {
        "id": "6Lv-EQtCPqRS"
      },
      "execution_count": null,
      "outputs": []
    },
    {
      "cell_type": "code",
      "source": [
        "# 6 power transformations\n",
        "df_transformed = pd.DataFrame({\n",
        "    'sbp': np.power(df['sbp'], -2),\n",
        "    'tobacco': np.power(df['tobacco'], 0.4),\n",
        "    'ldl': np.power(df['ldl'], 0.1),\n",
        "    'obesity': np.power(df['obesity'], -0.4),\n",
        "    'alcohol': np.power(df['alcohol'], 0.4)\n",
        "})\n",
        "\n",
        "print(df_transformed)"
      ],
      "metadata": {
        "id": "H2PxhiGHsQed"
      },
      "execution_count": null,
      "outputs": []
    },
    {
      "cell_type": "markdown",
      "source": [
        "7. Produce histogram of each of the following transformed variables with imposing normalcurve:sbp, tobacco, ldl, obesity, and alcohol.\n",
        "\n",
        "8. Produce quantile plot of each of the following transformed variables:sbp, tobacco, ldl,obesity, and alcohol."
      ],
      "metadata": {
        "id": "q_5go_XIPzIr"
      }
    },
    {
      "cell_type": "code",
      "source": [
        "# 7 making the histogram and quantile plots to match\n",
        "\n",
        "import scipy.stats as stats\n",
        "\n",
        "# Set the style for the seaborn plots\n",
        "sns.set(style='whitegrid')\n",
        "\n",
        "# Loop through the variables and create histograms with a normal curve\n",
        "for variable in df_transformed.columns:\n",
        "    plt.figure()\n",
        "    sns.histplot(data=df_transformed, x=variable, kde=True, stat='density', linewidth=0)\n",
        "\n",
        "    # Calculate the normal curve\n",
        "    mu, std = df_transformed[variable].mean(), df_transformed[variable].std()\n",
        "    x_values = np.linspace(df_transformed[variable].min(), df_transformed[variable].max(), 100)\n",
        "    y_values = stats.norm.pdf(x_values, mu, std)\n",
        "\n",
        "\n",
        "    plt.plot(x_values, y_values, color='r', linestyle='--')\n",
        "    plt.title(f'Transformed Variable: {variable.capitalize()}')\n",
        "    plt.xlabel(variable)\n",
        "    plt.ylabel('Density')\n",
        "\n",
        "plt.show()"
      ],
      "metadata": {
        "id": "rwJBJOtLP1dq"
      },
      "execution_count": null,
      "outputs": []
    },
    {
      "cell_type": "code",
      "source": [
        "# 8 Produce quantile plot of all the variables\n",
        "\n",
        "# Set the style for the seaborn plots\n",
        "sns.set(style='whitegrid')\n",
        "\n",
        "# Loop through the variables and create Q-Q plots\n",
        "for variable in df_transformed.columns:\n",
        "    plt.figure()\n",
        "    stats.probplot(data[variable], dist='norm', plot=plt)\n",
        "    plt.title(f'Transformed Q-Q Plot of {variable}')\n",
        "    plt.xlabel('Theoretical Quantiles')\n",
        "    plt.ylabel(f'{variable} Quantiles')\n",
        "\n",
        "plt.show()"
      ],
      "metadata": {
        "id": "K7QqyhRlvK9w"
      },
      "execution_count": null,
      "outputs": []
    },
    {
      "cell_type": "markdown",
      "source": [
        "9.Build a logistic regression model with all predictors (transformed and three remaining original variables do not perform any transformation).\n",
        "\n",
        "10.Build another logistic regression model with all predictors as in Part 9 except usingsignificant predictors only"
      ],
      "metadata": {
        "id": "JwFoJ0y3P6NB"
      }
    },
    {
      "cell_type": "code",
      "source": [
        "#9 Build a Log Reg model with both original and transformed variables\n",
        "\n",
        "# Combining the transformed and original variables\n",
        "data_combined = pd.concat([df_transformed, data[['adiposity', 'famhist', 'typea', 'age', 'chd']]], axis=1)\n",
        "\n",
        "# Preprocess the famhist column\n",
        "encoder = LabelEncoder()\n",
        "data_combined['famhist'] = encoder.fit_transform(data_combined['famhist'].astype(str))\n",
        "\n",
        "#renaming target variable\n",
        "target_var = 'chd'\n",
        "\n",
        "# Separate the predictors (features) and the target variable\n",
        "X = data_combined.drop(['chd'], axis=1)\n",
        "y = data_combined[target_var]\n",
        "\n",
        "# Split the dataset into training and test sets\n",
        "X_train, X_test, y_train, y_test = train_test_split(X, y, test_size=0.2, random_state=5)\n",
        "\n",
        "# Creating the logistic regression model\n",
        "log_reg = LogisticRegression(max_iter=500)\n",
        "\n",
        "# Fit the model\n",
        "log_reg.fit(X_train, y_train)\n",
        "\n",
        "y_pred = log_reg.predict(X_test)\n",
        "\n",
        "# Stats\n",
        "accuracy = accuracy_score(y_test, y_pred)\n",
        "report = classification_report(y_test, y_pred)\n",
        "\n",
        "print(f'Accuracy: {accuracy:.2f}')\n",
        "print('Classification Report:')\n",
        "print(report)"
      ],
      "metadata": {
        "id": "h-M-du5TP_D7"
      },
      "execution_count": null,
      "outputs": []
    },
    {
      "cell_type": "code",
      "source": [
        "#10 build another model, but using the best predictors\n",
        "\n",
        "from sklearn.metrics import confusion_matrix, classification_report\n",
        "from sklearn.feature_selection import RFE\n",
        "\n",
        "# Use RFE to select the most significant predictors\n",
        "rfe = RFE(log_reg, n_features_to_select=5, step=1)\n",
        "rfe.fit(X_train, y_train)\n",
        "\n",
        "# Get the list of significant predictors\n",
        "significant_predictors = X_train.columns[rfe.support_]\n",
        "\n",
        "# Fit a logistic regression model to the training data\n",
        "log_reg.fit(X_train[significant_predictors], y_train)\n",
        "\n",
        "# Make predictions on the test data\n",
        "y_pred = log_reg.predict(X_test[significant_predictors])\n",
        "\n",
        "# Evaluate the performance of the model using confusion matrix and classification report\n",
        "print(confusion_matrix(y_test, y_pred))\n",
        "print(classification_report(y_test, y_pred))"
      ],
      "metadata": {
        "id": "QxH_VZSeyM2M"
      },
      "execution_count": null,
      "outputs": []
    },
    {
      "cell_type": "markdown",
      "source": [],
      "metadata": {
        "id": "HBm3mdMqQEaj"
      }
    },
    {
      "cell_type": "markdown",
      "source": [
        "PART II Reporting (10 Points)\n",
        "\n",
        "1. After completion of this activity, complete the following table. (3 Points)\n",
        "\n",
        "***(I think we only have to complete the table, and not write the code for it.) ***\n",
        "\n",
        "\n",
        "![table 1.png](data:image/png;base64,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)\n",
        "\n",
        "\n",
        "\n",
        "\n",
        "2. Display the histogram and quantile plot of “tobacco”.\n",
        "3. Display the histogram and quantile plot of “alcohol”"
      ],
      "metadata": {
        "id": "7de-IbhaQFhT"
      }
    },
    {
      "cell_type": "code",
      "source": [
        "#Part 2.1\n",
        "means = data.mean()\n",
        "medians = data.median()\n",
        "skewness = data.skew()\n",
        "\n",
        "results = pd.DataFrame({'Mean': means, 'Median': medians, 'Skewness': skewness})\n",
        "print(results)\n"
      ],
      "metadata": {
        "id": "Mfq_eK0uVyOW"
      },
      "execution_count": null,
      "outputs": []
    },
    {
      "cell_type": "code",
      "source": [
        "#Part 2.2\n",
        "\n",
        "#histogram of \"tobacco\"\n",
        "sns.histplot(data=data, x='tobacco')\n",
        "plt.title('Histogram of Tobacco')\n",
        "plt.show()\n",
        "\n",
        "#quantile plot of \"tobacco\"\n",
        "stats.probplot(data['tobacco'], dist='norm', plot=plt)\n",
        "plt.title('Quantile Plot of Tobacco')\n",
        "plt.show()"
      ],
      "metadata": {
        "id": "RPv4s50mWW0K"
      },
      "execution_count": null,
      "outputs": []
    },
    {
      "cell_type": "code",
      "source": [
        "#Part 2.3\n",
        "\n",
        "#histogram of \"alcohol\"\n",
        "sns.histplot(data=data, x='alcohol')\n",
        "plt.title('Histogram of alcohol')\n",
        "plt.show()\n",
        "\n",
        "#quantile plot of \"alcohol\"\n",
        "stats.probplot(data['alcohol'], dist='norm', plot=plt)\n",
        "plt.title('Quantile Plot of alcohol')\n",
        "plt.show()"
      ],
      "metadata": {
        "id": "czhNQVtRWnVm"
      },
      "execution_count": null,
      "outputs": []
    },
    {
      "cell_type": "code",
      "source": [
        "#finding the mean, median (trash stat btw), and Skewness. Then find the histogram and the respective quantile plot"
      ],
      "metadata": {
        "id": "2uVpLic9ROOJ"
      },
      "execution_count": null,
      "outputs": []
    },
    {
      "cell_type": "markdown",
      "source": [
        "4. Complete the following table. (3 Points)\n",
        "\n",
        "![Screenshot 2023-03-16 075749.png](data:image/png;base64,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)\n",
        "\n",
        "\n",
        "5.\tDisplay the histogram and quantile plot of “tobacco” after power transformation.\n",
        "\n",
        "6.\tDisplay the histogram and quantile plot of “alcohol” after power transformation.\n",
        "\n",
        "7.\tFind the 95% confidence interval on the likelihood of heart disease if one more kilogram of tobacco consumed using the first model.\n",
        "\n",
        "8.\tFind the 95% confidence interval on the likelihood of heart disease if one more kilogram of alcohol consumed using the first model.\n",
        "\n",
        "9.\tWhich model perform better based on the c-statistics?\n"
      ],
      "metadata": {
        "id": "FbNFRyVJRblJ"
      }
    },
    {
      "cell_type": "code",
      "source": [
        "#Part 2.4\n",
        "from scipy.stats import skew\n",
        "\n",
        "#mean for each variable\n",
        "sbp_mean = np.mean(data['sbp'] ** -2)\n",
        "tobacco_mean = np.mean(data['tobacco'] ** 0.4)\n",
        "ldl_mean = np.mean(data['ldl'] ** 0.1)\n",
        "obesity_mean = np.mean(data['obesity'] ** -0.4)\n",
        "alcohol_mean = np.mean(data['alcohol'] ** 0.4)\n",
        "\n",
        "#median for each variable\n",
        "sbp_median = np.median(data['sbp'] ** -2)\n",
        "tobacco_median = np.median(data['tobacco'] ** 0.4)\n",
        "ldl_median = np.median(data['ldl'] ** 0.1)\n",
        "obesity_median = np.median(data['obesity'] ** -0.4)\n",
        "alcohol_median = np.median(data['alcohol'] ** 0.4)\n",
        "\n",
        "#Calculate skewness for each variable\n",
        "sbp_skewness = skew(data['sbp'])\n",
        "tobacco_skewness = skew(data['tobacco'])\n",
        "ldl_skewness = skew(data['ldl'])\n",
        "obesity_skewness = skew(data['obesity'])\n",
        "alcohol_skewness = skew(data['alcohol'])\n",
        "\n",
        "\n",
        "results = pd.DataFrame({\n",
        "    'Variable Name': ['Sbp (Power=-2)', 'Tobacco (Power=0.4)', 'Ldl (Power=0.1)', 'obesity (power = -0.4)', 'alcohol (Power=0.4)'],\n",
        "    'Mean': [sbp_mean, tobacco_mean, ldl_mean, obesity_mean, alcohol_mean],\n",
        "    'Median': [sbp_median, tobacco_median, ldl_median, obesity_median, alcohol_median],\n",
        "    'Skewness': [sbp_skewness, tobacco_skewness, ldl_skewness, obesity_skewness, alcohol_skewness]\n",
        "})\n",
        "\n",
        "print(results)\n"
      ],
      "metadata": {
        "id": "RSLAzKBkW8Yv"
      },
      "execution_count": null,
      "outputs": []
    },
    {
      "cell_type": "code",
      "source": [
        "#Part 2.5 and 2.6\n",
        "import seaborn as sns\n",
        "import matplotlib.pyplot as plt\n",
        "import statsmodels.api as sm\n",
        "\n",
        "#Power transform tobacco and alcohol variables\n",
        "df_transformed = pd.DataFrame({\n",
        "    'tobacco': np.power(df['tobacco'], 0.4),\n",
        "    'alcohol': np.power(df['alcohol'], 0.4)\n",
        "})\n",
        "\n",
        "#Plot histogram and quantile plot for tobacco\n",
        "sns.histplot(df_transformed['tobacco'], kde=True)\n",
        "plt.title('Histogram of Transformed Tobacco')\n",
        "plt.show()\n",
        "\n",
        "sm.qqplot(df_transformed['tobacco'], line='s')\n",
        "plt.title('Quantile Plot of Transformed Tobacco')\n",
        "plt.show()\n",
        "\n",
        "#Plot histogram and quantile plot for alcohol\n",
        "sns.histplot(df_transformed['alcohol'], kde=True)\n",
        "plt.title('Histogram of Transformed Alcohol')\n",
        "plt.show()\n",
        "\n",
        "sm.qqplot(df_transformed['alcohol'], line='s')\n",
        "plt.title('Quantile Plot of Transformed Alcohol')\n",
        "plt.show()\n",
        "\n"
      ],
      "metadata": {
        "id": "b0o0UcLSca5a"
      },
      "execution_count": null,
      "outputs": []
    },
    {
      "cell_type": "code",
      "source": [
        "#Part 2.7 Using \"first model\" from Brandons 1.5\n",
        "\n",
        "#coefficient and intercept for tobacco\n",
        "tobacco_coef = log_reg.coef_[0][X.columns.get_loc('tobacco')]\n",
        "intercept = log_reg.intercept_[0]\n",
        "\n",
        "#log odds for kilogram of tobacco\n",
        "log_odds = intercept + tobacco_coef\n",
        "odds = np.exp(log_odds)\n",
        "\n",
        "#probability for tobaccoa consumption x =1\n",
        "x = 1\n",
        "prob = odds / (1 + odds)\n",
        "\n",
        "#SE\n",
        "n = len(X_test)\n",
        "se = np.sqrt(prob * (1 - prob) / n)\n",
        "\n",
        "#z score and bounds\n",
        "z = 1.96\n",
        "lower = prob - z * se\n",
        "upper = prob + z * se\n",
        "\n",
        "print(f'The 95% confidence interval for the likelihood of heart disease if one more kilogram of tobacco consumed is ({lower:.4f}, {upper:.4f})')"
      ],
      "metadata": {
        "id": "TvipXxhuZhUD"
      },
      "execution_count": null,
      "outputs": []
    },
    {
      "cell_type": "code",
      "source": [
        "#Part 2.8 Using \"first model\" from Brandons 1.5\n",
        "\n",
        "#coefficient and intercept for alcohol\n",
        "alcohol_coef = log_reg.coef_[0][X.columns.get_loc('alcohol')]\n",
        "intercept = log_reg.intercept_[0]\n",
        "\n",
        "#log odds for kilogram of alcohol\n",
        "log_odds = intercept + alcohol_coef\n",
        "odds = np.exp(log_odds)\n",
        "\n",
        "#probability for alcohol consumption x =1\n",
        "x = 1\n",
        "prob = odds / (1 + odds)\n",
        "\n",
        "#SE\n",
        "n = len(X_test)\n",
        "se = np.sqrt(prob * (1 - prob) / n)\n",
        "\n",
        "#z score and bounds\n",
        "z = 1.96\n",
        "lower = prob - z * se\n",
        "upper = prob + z * se\n",
        "\n",
        "print(f'The 95% confidence interval for the likelihood of heart disease if one more kilogram of alcohol consumed is ({lower:.4f}, {upper:.4f})')"
      ],
      "metadata": {
        "id": "1oMITXrXayVr"
      },
      "execution_count": null,
      "outputs": []
    },
    {
      "cell_type": "code",
      "source": [
        "#Part 2.9\n",
        "from sklearn.metrics import roc_auc_score\n",
        "from sklearn.linear_model import LogisticRegression\n",
        "from sklearn.model_selection import train_test_split\n",
        "from sklearn.metrics import classification_report, accuracy_score\n",
        "from sklearn.preprocessing import LabelEncoder\n",
        "#C stat from Brandon 5\n",
        "auc = roc_auc_score(y_test, y_pred)\n",
        "print('C-Statistic for 1st Model:', auc)\n",
        "\n",
        "#Brandon code from 9\n",
        "# Combining the transformed and original variables\n",
        "data_combined = pd.concat([df_transformed, data[['adiposity', 'famhist', 'typea', 'age', 'chd']]], axis=1)\n",
        "\n",
        "# Preprocess the famhist column\n",
        "encoder = LabelEncoder()\n",
        "data_combined['famhist'] = encoder.fit_transform(data_combined['famhist'].astype(str))\n",
        "\n",
        "#renaming target variable\n",
        "target_var = 'chd'\n",
        "\n",
        "# Separate the predictors (features) and the target variable\n",
        "X = data_combined.drop(['chd'], axis=1)\n",
        "y = data_combined[target_var]\n",
        "\n",
        "# Split the dataset into training and test sets\n",
        "X_train, X_test, y_train, y_test = train_test_split(X, y, test_size=0.2, random_state=5)\n",
        "\n",
        "# Creating the logistic regression model\n",
        "log_reg = LogisticRegression(max_iter=500)\n",
        "\n",
        "# Fit the model\n",
        "log_reg.fit(X_train, y_train)\n",
        "\n",
        "y_pred = log_reg.predict(X_test)\n",
        "\n",
        "#C stat Brandon 9\n",
        "auc2 = roc_auc_score(y_test, y_pred)\n",
        "print('C-Statistic for Other Model:', auc2)\n",
        "\n",
        "if auc2 > auc:\n",
        "    print(\"Since the 2nd transformed model has a higher C statistic, it performed better.\")\n",
        "else:\n",
        "    print(\"Since the 1st model has a higher C statistic, it performed better.\")\n",
        "\n",
        "\n"
      ],
      "metadata": {
        "id": "Oqrez7gsfvFo"
      },
      "execution_count": null,
      "outputs": []
    },
    {
      "cell_type": "code",
      "source": [
        "#completing the table, displaying the histograms, finding the 95% Confidence interval and which model is best."
      ],
      "metadata": {
        "id": "-WcfUpLeSaTa"
      },
      "execution_count": null,
      "outputs": []
    },
    {
      "cell_type": "markdown",
      "source": [
        "Problem #2 (5 Points)\n",
        "\n",
        "![table 3.png](data:image/png;base64,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)\n",
        "\n",
        "\t1. Estimate the probability of a student who spent 10 hours per week with 3.5 undergraduate GPA.\n",
        "\n",
        "\t2. How many hours would the student in part (a) need to study to have 80% or higher chance of getting A in this class?\n"
      ],
      "metadata": {
        "id": "Oo6zn0uDSkoT"
      }
    },
    {
      "cell_type": "code",
      "source": [
        "# estimating the probability students with 10 hours a week and how many hour is would take to have 80% chance or higher.\n",
        "\n",
        "\n",
        "xt"
      ],
      "metadata": {
        "id": "snUNpAfwTCXU"
      },
      "execution_count": null,
      "outputs": []
    },
    {
      "cell_type": "markdown",
      "source": [
        "![Screenshot 2023-03-21 at 11.53.08 PM.png](data:image/png;base64,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)"
      ],
      "metadata": {
        "id": "GEkpq3aFcyJz"
      }
    }
  ]
}