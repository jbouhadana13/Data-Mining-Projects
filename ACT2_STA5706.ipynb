{
  "nbformat": 4,
  "nbformat_minor": 0,
  "metadata": {
    "colab": {
      "provenance": [],
      "include_colab_link": true
    },
    "kernelspec": {
      "name": "python3",
      "display_name": "Python 3"
    },
    "language_info": {
      "name": "python"
    }
  },
  "cells": [
    {
      "cell_type": "markdown",
      "metadata": {
        "id": "view-in-github",
        "colab_type": "text"
      },
      "source": [
        "<a href=\"https://colab.research.google.com/github/jbouhadana13/Data-Mining-Projects/blob/main/ACT2_STA5706.ipynb\" target=\"_parent\"><img src=\"https://colab.research.google.com/assets/colab-badge.svg\" alt=\"Open In Colab\"/></a>"
      ]
    },
    {
      "cell_type": "markdown",
      "source": [
        "Data Used: “House_Prices_PRED.XLSX” (PB2) with three variables: ID, SalePrice (observed value), and SalePrice_MP (Model Predicted Value)."
      ],
      "metadata": {
        "id": "4X9boAvLWQ7z"
      }
    },
    {
      "cell_type": "code",
      "source": [
        "#import necessary libraries\n",
        "\n",
        "import pandas as pd\n",
        "from pandas import read_csv\n",
        "from sklearn.metrics import mean_squared_error\n",
        "import numpy\n",
        "import numpy as np\n",
        "import statsmodels.api as sm\n",
        "import matplotlib.pyplot as plt\n",
        "import seaborn as sns\n"
      ],
      "metadata": {
        "id": "CrPaIMPkW48M"
      },
      "execution_count": null,
      "outputs": []
    },
    {
      "cell_type": "markdown",
      "source": [
        "Problem 2.1 (0 Points) Read the XLSX file “House_Prices_PRED.XLSX” (PB2)"
      ],
      "metadata": {
        "id": "ITbs0YXRWhO6"
      }
    },
    {
      "cell_type": "code",
      "source": [
        "# 2.1 read XLSX file “House_Prices_PRED.XLSX”\n",
        "filename = \"/content/House_Prices_PRED.xlsx\"\n",
        "data = pd.read_excel(filename, index_col=0)\n",
        "data"
      ],
      "metadata": {
        "id": "RDtIAD2_W9xl"
      },
      "execution_count": null,
      "outputs": []
    },
    {
      "cell_type": "markdown",
      "source": [
        "Problem 2.2 (4 Points) Write a program to calculate the sum squared of error and the average squared error of the Model (i.e., SalePrice_MP)."
      ],
      "metadata": {
        "id": "27HCPpbtWjtG"
      }
    },
    {
      "cell_type": "code",
      "source": [
        "# 2.2 calculate sum square of errors (SSE) of the model (SalePrice_MP)\n",
        "\n",
        "#define response variable\n",
        "actual = data['SalePrice']  # Y_true = Y (original values)\n",
        "\n",
        "#define predictor variable\n",
        "predict = data['SalePrice_MP']  # Y_pred = Y'\n",
        "\n",
        "model = sm.OLS(actual, predict).fit()\n",
        "\n",
        "#calculate sse\n",
        "sse = np.sum((model.fittedvalues - data.SalePrice)**2)\n",
        "print(sse)"
      ],
      "metadata": {
        "id": "Odkht-7MWnq0"
      },
      "execution_count": null,
      "outputs": []
    },
    {
      "cell_type": "code",
      "source": [
        "# 2.2 calculate mean squared of errors (MSE) of the model (SalePrice_MP)\n",
        "\n",
        "# Calculation of Mean Squared Error (MSE)\n",
        "mse = mean_squared_error(actual, predict)\n",
        "\n",
        "print(mse)"
      ],
      "metadata": {
        "id": "Rx7rr3HJXWHe",
        "colab": {
          "base_uri": "https://localhost:8080/"
        },
        "outputId": "791e3522-674a-4059-e2a1-908e495e5be6"
      },
      "execution_count": null,
      "outputs": [
        {
          "output_type": "stream",
          "name": "stdout",
          "text": [
            "663427387.3351535\n"
          ]
        }
      ]
    },
    {
      "cell_type": "markdown",
      "source": [
        "Problem 2.3 (4 Points) Write a program to calculate the R2 of the Model using formula (i.e., SalePrice_MP)."
      ],
      "metadata": {
        "id": "bOtEQXKPXMFy"
      }
    },
    {
      "cell_type": "code",
      "source": [
        "# 2.3 calculate R^2 (coefficient of determination) of the model (SalePrice_MP)\n",
        "corr_matrix = numpy.corrcoef(actual, predict)\n",
        "corr = corr_matrix[0,1]\n",
        "R_sq = corr**2\n",
        "R_sq"
      ],
      "metadata": {
        "id": "gqCiMjWCXT_Z"
      },
      "execution_count": null,
      "outputs": []
    },
    {
      "cell_type": "markdown",
      "source": [
        "Problem 2.4 (4 Points) Write a program to calculate the MAPE of the Model using formula (i.e., SalePrice_MP)."
      ],
      "metadata": {
        "id": "SOiTWnp_XYqp"
      }
    },
    {
      "cell_type": "code",
      "source": [
        "# 2.4 calculate mean absolute percentage errors (MAPE) of the model (SalePrice_MP)\n",
        "\n",
        "def mape(actual, predict):\n",
        "    actual, pred = np.array(actual), np.array(predict)\n",
        "    return np.mean(np.abs((actual - predict) / actual)) * 100\n",
        "mape(actual, predict)"
      ],
      "metadata": {
        "id": "310ayziuYHcT"
      },
      "execution_count": null,
      "outputs": []
    },
    {
      "cell_type": "markdown",
      "source": [
        "Problem 2.5 (4 Points) Write a program to calculate the MAE of the Model using formula (i.e., SalePrice_MP)."
      ],
      "metadata": {
        "id": "nUQOeNHAYLzY"
      }
    },
    {
      "cell_type": "code",
      "source": [
        "#2.5\n",
        "\n",
        "#import libraries\n",
        "import pandas as pd\n",
        "import openpyxl\n",
        "from sklearn.metrics import mean_absolute_error\n",
        "import seaborn as sns\n",
        "import matplotlib.pyplot as plt\n",
        "\n",
        "\n",
        "\n",
        "#filepath\n",
        "filepath = '/content/House_Prices_PRED.xlsx'\n",
        "\n",
        "#load dataframe\n",
        "df = pd.read_excel(filepath, engine = 'openpyxl')\n",
        "\n",
        "#MAE Function\n",
        "def mae_function(y_actual, y_predication):\n",
        "    y_true = df[f'{y_actual}']\n",
        "    y_pred = df[f'{y_predication}']\n",
        "    print(mean_absolute_error(y_true, y_pred))\n",
        "\n",
        "#print out function for SalePrice and SalePrice_MP\n",
        "mae_function('SalePrice', 'SalePrice_MP')\n",
        "\n"
      ],
      "metadata": {
        "id": "eoknhEgjjncb"
      },
      "execution_count": null,
      "outputs": []
    },
    {
      "cell_type": "markdown",
      "source": [
        "Problem 2.6 (4 Points) Write a program to produce a residual plot with residual on the Y-axis and observed value (SalePrice) and to impose a loess line on the graph."
      ],
      "metadata": {
        "id": "qDFOG9UCYVne"
      }
    },
    {
      "cell_type": "code",
      "source": [
        "#2.6 scatterplot SalePrice vs Residual\n",
        "import seaborn as sns\n",
        "import matplotlib.pyplot as plt\n",
        "from statsmodels.nonparametric.smoothers_lowess import lowess\n",
        "df['Residual'] = df['SalePrice'] - df['SalePrice_MP']\n",
        "\n",
        "\n",
        "def residual_plot(SalePrice, residual):\n",
        "\n",
        "  sns.scatterplot(x=SalePrice, y=residual)\n",
        "  loess_fit = lowess(residual, SalePrice, frac=0.3)\n",
        "  sns.lineplot(loess_fit[:,0], loess_fit[:,1], color='red', label='Loess fit')\n",
        "  plt.xlabel(\"SalePrice\")\n",
        "  plt.ylabel(\"Residual\")\n",
        "  plt.show()\n",
        "\n",
        "\n",
        "residual_plot(df['SalePrice'], df['Residual'])"
      ],
      "metadata": {
        "id": "oQJtBTmsFWLH"
      },
      "execution_count": null,
      "outputs": []
    },
    {
      "cell_type": "markdown",
      "source": [
        "Problem 3 Residual Plot for Predictors (15 Points)"
      ],
      "metadata": {
        "id": "s6fx6f6XYgv1"
      }
    },
    {
      "cell_type": "markdown",
      "source": [
        "Data Used: “House_Prices_PRED.XLSX” (PB2)"
      ],
      "metadata": {
        "id": "5Mj-KwHgYsKF"
      }
    },
    {
      "cell_type": "code",
      "source": [
        "#import necessary libraries\n",
        "\n",
        "import pandas as pd\n",
        "from pandas import read_csv\n",
        "from sklearn.metrics import mean_squared_error\n",
        "import numpy\n",
        "import numpy as np\n",
        "import statsmodels.api as sm"
      ],
      "metadata": {
        "id": "NvtRWjnyZGzs"
      },
      "execution_count": null,
      "outputs": []
    },
    {
      "cell_type": "markdown",
      "source": [
        "Problem 3.1 (0 Points) Read the XLSX file “House_Prices_PRED.XLSX” (PB3)"
      ],
      "metadata": {
        "id": "txhOuuPIYuC8"
      }
    },
    {
      "cell_type": "code",
      "source": [
        "# 3.1 read XLSX file “House_Prices_PRED.XLSX”\n",
        "filename = \"House_Prices_PRED.xlsx\"\n",
        "data = pd.read_excel(filename, index_col=0)\n",
        "data"
      ],
      "metadata": {
        "id": "lw0ht7HIY8-x"
      },
      "execution_count": null,
      "outputs": []
    },
    {
      "cell_type": "markdown",
      "source": [
        "Problem 3.2 (4 Points) Write a program to calculate the residuals."
      ],
      "metadata": {
        "id": "PXjgf4guZKBG"
      }
    },
    {
      "cell_type": "code",
      "source": [
        "# 3.2 calculate residuals\n",
        "\n",
        "def calc_residuals(actual, predict):\n",
        "    residuals = actual - predict\n",
        "    return residuals\n",
        "\n",
        "#define variables, ref question 2.2\n",
        "\n",
        "actual = data[\"SalePrice\"]\n",
        "predict = data['SalePrice_MP']\n",
        "\n",
        "\n",
        "residuals = calc_residuals(actual, predict)\n",
        "print(residuals)\n",
        "\n"
      ],
      "metadata": {
        "id": "J6lgaC8lZLwH"
      },
      "execution_count": null,
      "outputs": []
    },
    {
      "cell_type": "markdown",
      "source": [
        "Problem 3.3 (6 Points) Write a program to produce a residual plot with residual on the Y-axis and MSZONING on the X-axis.  Do you find any special patterns?"
      ],
      "metadata": {
        "id": "9zyjWWgGZO_4"
      }
    },
    {
      "cell_type": "code",
      "source": [
        "#3.3 produce a residual plot with residual on the Y-axis and MSZONING on the X-axis (loess line)\n",
        "#Brendan\n",
        "import numpy as np\n",
        "import pandas as pd\n",
        "import openpyxl\n",
        "import matplotlib.pyplot as plt\n",
        "import statsmodels.api as sm\n",
        "import seaborn as sns\n",
        "from statsmodels.formula.api import ols\n",
        "\n",
        "filepath = '/content/House_Prices_PRED.xlsx'\n",
        "\n",
        "df = pd.read_excel(filepath, engine='openpyxl', sheet_name='PB3')\n",
        "\n",
        "df['Residual'] = df['SalePrice'] - df['SalePrice_MP']\n",
        "\n",
        "\n",
        "def residual_plot(mszoning, residual):\n",
        "\n",
        "  sns.relplot(kind='scatter', x=mszoning, y=residual, data=df, height=3.5, aspect=1.5)\n",
        "  sns.lineplot(data=df, x=mszoning, y=residual, color='r')\n",
        "\n",
        "  plt.xlabel(\"MSZOning\")\n",
        "  plt.ylabel(\"Residual\")\n",
        "  plt.show()\n",
        "\n",
        "\n",
        "residual_plot(df['MSZoning'], df['Residual'])"
      ],
      "metadata": {
        "id": "Am_bHeMmij5r"
      },
      "execution_count": null,
      "outputs": []
    },
    {
      "cell_type": "markdown",
      "source": [
        "Problem 3.4 (5 Points) Write a program to produce a residual plot with residual on the Y-axis and AGE on the X-axis.  Do you find any special patterns?"
      ],
      "metadata": {
        "id": "zUAOU_UgZZWW"
      }
    },
    {
      "cell_type": "code",
      "source": [
        "# 3.4  produce a residual plot with residual on the Y-axis and AGE on the X-axis (loess line)\n",
        "#Jeremy\n",
        "import seaborn as sns\n",
        "import matplotlib.pyplot as plt\n",
        "from statsmodels.nonparametric.smoothers_lowess import lowess\n",
        "df['Residual'] = df['SalePrice'] - df['SalePrice_MP']\n",
        "\n",
        "\n",
        "def residual_plot(age, residual):\n",
        "\n",
        "  sns.scatterplot(x=age, y=residual)\n",
        "  loess_fit = lowess(residual, age, frac=0.3)\n",
        "  sns.lineplot(loess_fit[:,0], loess_fit[:,1], color='red', label='Loess fit')\n",
        "  plt.xlabel(\"Age\")\n",
        "  plt.ylabel(\"Residual\")\n",
        "  plt.show()\n",
        "\n",
        "\n",
        "residual_plot(df['Age'], df['Residual'])"
      ],
      "metadata": {
        "id": "W5oRZwUqB9cG"
      },
      "execution_count": null,
      "outputs": []
    }
  ]
}